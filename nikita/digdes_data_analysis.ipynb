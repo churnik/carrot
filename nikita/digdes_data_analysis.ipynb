{
 "cells": [
  {
   "cell_type": "code",
   "execution_count": 1,
   "metadata": {},
   "outputs": [],
   "source": [
    "import pandas as pd\n",
    "import numpy as np\n",
    "import matplotlib.pyplot as plt\n",
    "import seaborn as sns\n",
    "%matplotlib inline"
   ]
  },
  {
   "cell_type": "markdown",
   "metadata": {},
   "source": [
    "## [Методы каротажа](https://ru.wikipedia.org/wiki/Каротаж)\n",
    "### Методы электрического каротажа\n",
    "#### Группа методов кажущегося сопротивления (КС) собственно \n",
    "- **КС** — кажущееся сопротивление с нефокусированными зондами. Самый распространённый метод данной группы, являющийся скважинным аналогом метода электрического профилирования в электроразведке\n",
    "- **резистивиметрия (REZ)**. С помощью этого метода измеряют удельное электрическое сопротивление жидкости, заполняющей в данный момент скважину. Жидкость может быть представлена как буровым раствором (его сопротивление заранее известно), так и пластовыми флюидами (нефть, пресная или минерализованная вода), а также их смесью\n",
    "- **БКЗ** — боковое каротажное зондирование. Данный метод является скважинным аналогом метода вертикального электрического зондирования в электроразведке\n",
    "- **микрокаротаж** — разновидность КС с зондами очень малого размера, вплотную прижимаемыми к стенкам скважины. С помощью данного метода, преимущественно, ищут только коллекторы по скважине\n",
    "- **БК** — боковой каротаж. Отличие от классического КС заключается в фокусировке тока зондом\n",
    "- **МБК** — микробоковой каротаж. Отличие данного метода от микрокаротажа заключается в фокусировке тока зондом\n",
    "\n",
    "#### Группа электромагнитных методов\n",
    "Основное преимущество данной группы методов заключается в том, что их возможно использовать в сухих скважинах, не заполненных токопроводящим буровым раствором. Кроме того, его возможно применять и в скважинах, заполненных буровым раствором на основе нефти, которые тоже не проводят постоянный электрический ток. Встречаются следующие разновидности:\n",
    "\n",
    "- **ИК** — индукционный каротаж. При проведении используют сравнительно низкие частоты — до 200 кГц<br>\n",
    "индукционный каротаж на высоких частотах, результаты которого зависят как от электропроводности пород, так и от их диэлектрической проницаемости:\n",
    "- **ВМП** — волновой метод проводимости с частотой 1-5 МГц\n",
    "- **ВДК** — волновой диэлектрический каротаж с частотой до 60 МГц\n",
    "- **ВЭМКЗ** - высокочастотное электромагнитное каротажное зондирование\n",
    "- **ВИКИЗ** — высокочастотное индукционное каротажное изопараметрическое зондирование. Метод является аналогом БКЗ, но вместо постоянного тока используется переменный\n",
    "\n",
    "#### Группа методов электрохимической активности\n",
    "- **ПС** — метод самопроизвольной поляризации, также известный как метод потенциалов самопроизвольной поляризации. Является скважинным аналогом метода естественного поля в электроразведке\n",
    "- **ЭК** — электролитический каротаж. Скважинный аналог метода вызванной поляризации в электроразведке\n",
    "- **МЭП** — метод электродных потенциалов. Данный метод существует исключительно в скважинном варианте и не имеет аналогов в полевой электроразведке\n",
    "\n",
    "### Методы радиоактивного каротажа\n",
    "#### Группа гамма-методов\n",
    "- **ГК** — гамма-каротаж. Очень простой и распространённый метод, измеряющий только естественное гамма-излучение от пород, окружающих скважину. Существует его чуть более усложнённый вариант — спектрометрический гамма-каротаж (СГК или ГК-С), который позволяет различить попавшие в детектор геофизического зонда гамма-кванты по их энергии. По этому параметру можно точнее судить о характере слагающих толщу пород.\n",
    "- **ГГК** — гамма-гамма каротаж. Геофизический зонд облучает породу гамма-излучением, в результате которого порода становится радиоактивной и в ответ тоже излучает гамма-кванты. Именно эти кванты и регистрируются зондом. Существует две основных разновидности метода:\n",
    "    - плотностная — ГГК-П (иногда встречается обозначение ПГГК)\n",
    "    - селективная — ГГК-С (может обозначаться как Z-ГГК, С-ГГК и т. п.)\n",
    "- **РРК** — рентгенорадиометрический каротаж. Его название формально не соответствует общепринятой системе, поэтому иногда встречается название ГРК (гамма-рентгеновский каротаж), но РРК является общеупотребимым.\n"
   ]
  },
  {
   "cell_type": "markdown",
   "metadata": {},
   "source": [
    "## Загрузка данных"
   ]
  },
  {
   "cell_type": "markdown",
   "metadata": {},
   "source": [
    "Загружаем расшифровки литологий"
   ]
  },
  {
   "cell_type": "code",
   "execution_count": 152,
   "metadata": {},
   "outputs": [],
   "source": [
    "data_source = '../data/digdes-data/coal-wells-1/'"
   ]
  },
  {
   "cell_type": "code",
   "execution_count": 160,
   "metadata": {},
   "outputs": [],
   "source": [
    "lithology = pd.read_excel(data_source + 'Литология.xlsx')\n",
    "lithology.index = lithology['Литология'].values\n",
    "lithology.drop(['Литология'], inplace=True, axis=1)\n",
    "lithology = lithology.to_dict()['порода ']"
   ]
  },
  {
   "cell_type": "code",
   "execution_count": 161,
   "metadata": {},
   "outputs": [
    {
     "data": {
      "text/plain": [
       "{1: 'песчаник',\n",
       " 2: 'Аргиллит алевритовый',\n",
       " 3: 'Аргиллит',\n",
       " 4: 'Гравелит ',\n",
       " 5: 'алевролит',\n",
       " 6: 'Аргиллит углистый',\n",
       " 7: 'Уголь',\n",
       " 8: 'Супесь ',\n",
       " 9: 'Суглинок',\n",
       " 10: 'Валунно-галечные отложения',\n",
       " 11: 'песок'}"
      ]
     },
     "execution_count": 161,
     "metadata": {},
     "output_type": "execute_result"
    }
   ],
   "source": [
    "lithology"
   ]
  },
  {
   "cell_type": "code",
   "execution_count": 3,
   "metadata": {},
   "outputs": [],
   "source": [
    "def print_value_counts_maped(dtf, val):\n",
    "    for v, k in dtf[val].value_counts().items():\n",
    "        if v in lithology.keys():\n",
    "            print('{} : {}'.format(lithology[int(v)], k))\n",
    "        else:\n",
    "            print('{} : {}'.format(v, k))"
   ]
  },
  {
   "cell_type": "markdown",
   "metadata": {},
   "source": [
    "### Одиночные скважины"
   ]
  },
  {
   "cell_type": "code",
   "execution_count": 223,
   "metadata": {},
   "outputs": [],
   "source": [
    "dtf_210 = pd.read_csv(data_source + '210.csv', sep=';', decimal=',', encoding='cp1251')\n",
    "# Заменяем столбцы dtf_210 на общепринятые\n",
    "dtf_210.columns = ['Dept', 'BK', 'DS', 'GGK(p)', 'KS', 'REZ', 'GR', 'LIT']\n",
    "\n",
    "dtf_628 = pd.read_csv(data_source + '628.csv', sep=';', decimal=',', encoding='cp1251')\n",
    "dtf_1763 = pd.read_csv(data_source + '1763.csv',  sep=';', decimal=',', encoding='cp1251')\n",
    "dtf_1093 = pd.read_csv(data_source + '1093.csv',  sep=';', decimal=',', encoding='cp1251')"
   ]
  },
  {
   "cell_type": "code",
   "execution_count": 224,
   "metadata": {},
   "outputs": [
    {
     "data": {
      "text/plain": [
       "((17547, 8), (22446, 7), (8862, 8), (16394, 8))"
      ]
     },
     "execution_count": 224,
     "metadata": {},
     "output_type": "execute_result"
    }
   ],
   "source": [
    "dtf_210.shape, dtf_628.shape, dtf_1763.shape, dtf_1093.shape"
   ]
  },
  {
   "cell_type": "code",
   "execution_count": 226,
   "metadata": {},
   "outputs": [
    {
     "data": {
      "text/html": [
       "<div>\n",
       "<style>\n",
       "    .dataframe thead tr:only-child th {\n",
       "        text-align: right;\n",
       "    }\n",
       "\n",
       "    .dataframe thead th {\n",
       "        text-align: left;\n",
       "    }\n",
       "\n",
       "    .dataframe tbody tr th {\n",
       "        vertical-align: top;\n",
       "    }\n",
       "</style>\n",
       "<table border=\"1\" class=\"dataframe\">\n",
       "  <thead>\n",
       "    <tr style=\"text-align: right;\">\n",
       "      <th></th>\n",
       "      <th>Dept</th>\n",
       "      <th>BK</th>\n",
       "      <th>DS</th>\n",
       "      <th>GGK(p)</th>\n",
       "      <th>KS</th>\n",
       "      <th>REZ</th>\n",
       "      <th>GR</th>\n",
       "      <th>LIT</th>\n",
       "    </tr>\n",
       "  </thead>\n",
       "  <tbody>\n",
       "    <tr>\n",
       "      <th>0</th>\n",
       "      <td>0.84</td>\n",
       "      <td>-999.25</td>\n",
       "      <td>-999.25</td>\n",
       "      <td>-999.25</td>\n",
       "      <td>-999.25</td>\n",
       "      <td>-999.25</td>\n",
       "      <td>3.237</td>\n",
       "      <td>8.0</td>\n",
       "    </tr>\n",
       "    <tr>\n",
       "      <th>1</th>\n",
       "      <td>0.86</td>\n",
       "      <td>-999.25</td>\n",
       "      <td>-999.25</td>\n",
       "      <td>-999.25</td>\n",
       "      <td>-999.25</td>\n",
       "      <td>-999.25</td>\n",
       "      <td>3.237</td>\n",
       "      <td>8.0</td>\n",
       "    </tr>\n",
       "    <tr>\n",
       "      <th>2</th>\n",
       "      <td>0.88</td>\n",
       "      <td>-999.25</td>\n",
       "      <td>-999.25</td>\n",
       "      <td>-999.25</td>\n",
       "      <td>-999.25</td>\n",
       "      <td>-999.25</td>\n",
       "      <td>3.108</td>\n",
       "      <td>8.0</td>\n",
       "    </tr>\n",
       "  </tbody>\n",
       "</table>\n",
       "</div>"
      ],
      "text/plain": [
       "   Dept      BK      DS  GGK(p)      KS     REZ     GR  LIT\n",
       "0  0.84 -999.25 -999.25 -999.25 -999.25 -999.25  3.237  8.0\n",
       "1  0.86 -999.25 -999.25 -999.25 -999.25 -999.25  3.237  8.0\n",
       "2  0.88 -999.25 -999.25 -999.25 -999.25 -999.25  3.108  8.0"
      ]
     },
     "execution_count": 226,
     "metadata": {},
     "output_type": "execute_result"
    }
   ],
   "source": [
    "dtf_210.head(3)"
   ]
  },
  {
   "cell_type": "code",
   "execution_count": 7,
   "metadata": {},
   "outputs": [
    {
     "data": {
      "text/html": [
       "<div>\n",
       "<style>\n",
       "    .dataframe thead tr:only-child th {\n",
       "        text-align: right;\n",
       "    }\n",
       "\n",
       "    .dataframe thead th {\n",
       "        text-align: left;\n",
       "    }\n",
       "\n",
       "    .dataframe tbody tr th {\n",
       "        vertical-align: top;\n",
       "    }\n",
       "</style>\n",
       "<table border=\"1\" class=\"dataframe\">\n",
       "  <thead>\n",
       "    <tr style=\"text-align: right;\">\n",
       "      <th></th>\n",
       "      <th>Dept</th>\n",
       "      <th>GGK(p)</th>\n",
       "      <th>DS</th>\n",
       "      <th>GR</th>\n",
       "      <th>BK</th>\n",
       "      <th>KS</th>\n",
       "      <th>REZ</th>\n",
       "      <th>LIT</th>\n",
       "    </tr>\n",
       "  </thead>\n",
       "  <tbody>\n",
       "    <tr>\n",
       "      <th>0</th>\n",
       "      <td>3.02</td>\n",
       "      <td>-999.25</td>\n",
       "      <td>-999.25</td>\n",
       "      <td>-999.25</td>\n",
       "      <td>-999.25</td>\n",
       "      <td>-999.25</td>\n",
       "      <td>0.786</td>\n",
       "      <td>-999.25</td>\n",
       "    </tr>\n",
       "    <tr>\n",
       "      <th>1</th>\n",
       "      <td>3.04</td>\n",
       "      <td>-999.25</td>\n",
       "      <td>-999.25</td>\n",
       "      <td>-999.25</td>\n",
       "      <td>-999.25</td>\n",
       "      <td>-999.25</td>\n",
       "      <td>0.786</td>\n",
       "      <td>-999.25</td>\n",
       "    </tr>\n",
       "    <tr>\n",
       "      <th>2</th>\n",
       "      <td>3.06</td>\n",
       "      <td>-999.25</td>\n",
       "      <td>-999.25</td>\n",
       "      <td>-999.25</td>\n",
       "      <td>-999.25</td>\n",
       "      <td>-999.25</td>\n",
       "      <td>0.789</td>\n",
       "      <td>-999.25</td>\n",
       "    </tr>\n",
       "  </tbody>\n",
       "</table>\n",
       "</div>"
      ],
      "text/plain": [
       "   Dept  GGK(p)      DS      GR      BK      KS    REZ     LIT\n",
       "0  3.02 -999.25 -999.25 -999.25 -999.25 -999.25  0.786 -999.25\n",
       "1  3.04 -999.25 -999.25 -999.25 -999.25 -999.25  0.786 -999.25\n",
       "2  3.06 -999.25 -999.25 -999.25 -999.25 -999.25  0.789 -999.25"
      ]
     },
     "execution_count": 7,
     "metadata": {},
     "output_type": "execute_result"
    }
   ],
   "source": [
    "dtf_1093.head(3)"
   ]
  },
  {
   "cell_type": "code",
   "execution_count": 8,
   "metadata": {},
   "outputs": [
    {
     "data": {
      "text/html": [
       "<div>\n",
       "<style>\n",
       "    .dataframe thead tr:only-child th {\n",
       "        text-align: right;\n",
       "    }\n",
       "\n",
       "    .dataframe thead th {\n",
       "        text-align: left;\n",
       "    }\n",
       "\n",
       "    .dataframe tbody tr th {\n",
       "        vertical-align: top;\n",
       "    }\n",
       "</style>\n",
       "<table border=\"1\" class=\"dataframe\">\n",
       "  <thead>\n",
       "    <tr style=\"text-align: right;\">\n",
       "      <th></th>\n",
       "      <th>Dept</th>\n",
       "      <th>GGK(p)</th>\n",
       "      <th>DS</th>\n",
       "      <th>GR</th>\n",
       "      <th>KS</th>\n",
       "      <th>BK</th>\n",
       "      <th>REZ</th>\n",
       "      <th>LIT</th>\n",
       "    </tr>\n",
       "  </thead>\n",
       "  <tbody>\n",
       "    <tr>\n",
       "      <th>0</th>\n",
       "      <td>1.79</td>\n",
       "      <td>-999.25</td>\n",
       "      <td>-999.25</td>\n",
       "      <td>2.540</td>\n",
       "      <td>-999.25</td>\n",
       "      <td>-999.25</td>\n",
       "      <td>0.789</td>\n",
       "      <td>-999.25</td>\n",
       "    </tr>\n",
       "    <tr>\n",
       "      <th>1</th>\n",
       "      <td>1.81</td>\n",
       "      <td>-999.25</td>\n",
       "      <td>-999.25</td>\n",
       "      <td>2.540</td>\n",
       "      <td>-999.25</td>\n",
       "      <td>-999.25</td>\n",
       "      <td>0.789</td>\n",
       "      <td>-999.25</td>\n",
       "    </tr>\n",
       "    <tr>\n",
       "      <th>2</th>\n",
       "      <td>1.83</td>\n",
       "      <td>-999.25</td>\n",
       "      <td>-999.25</td>\n",
       "      <td>2.717</td>\n",
       "      <td>-999.25</td>\n",
       "      <td>-999.25</td>\n",
       "      <td>0.793</td>\n",
       "      <td>-999.25</td>\n",
       "    </tr>\n",
       "  </tbody>\n",
       "</table>\n",
       "</div>"
      ],
      "text/plain": [
       "   Dept  GGK(p)      DS     GR      KS      BK    REZ     LIT\n",
       "0  1.79 -999.25 -999.25  2.540 -999.25 -999.25  0.789 -999.25\n",
       "1  1.81 -999.25 -999.25  2.540 -999.25 -999.25  0.789 -999.25\n",
       "2  1.83 -999.25 -999.25  2.717 -999.25 -999.25  0.793 -999.25"
      ]
     },
     "execution_count": 8,
     "metadata": {},
     "output_type": "execute_result"
    }
   ],
   "source": [
    "dtf_1763.head(3)"
   ]
  },
  {
   "cell_type": "code",
   "execution_count": 9,
   "metadata": {
    "scrolled": true
   },
   "outputs": [
    {
     "data": {
      "text/html": [
       "<div>\n",
       "<style>\n",
       "    .dataframe thead tr:only-child th {\n",
       "        text-align: right;\n",
       "    }\n",
       "\n",
       "    .dataframe thead th {\n",
       "        text-align: left;\n",
       "    }\n",
       "\n",
       "    .dataframe tbody tr th {\n",
       "        vertical-align: top;\n",
       "    }\n",
       "</style>\n",
       "<table border=\"1\" class=\"dataframe\">\n",
       "  <thead>\n",
       "    <tr style=\"text-align: right;\">\n",
       "      <th></th>\n",
       "      <th>Dept</th>\n",
       "      <th>GGK(p)</th>\n",
       "      <th>DS</th>\n",
       "      <th>GR</th>\n",
       "      <th>BK</th>\n",
       "      <th>REZ</th>\n",
       "      <th>LIT</th>\n",
       "    </tr>\n",
       "  </thead>\n",
       "  <tbody>\n",
       "    <tr>\n",
       "      <th>0</th>\n",
       "      <td>2.10</td>\n",
       "      <td>-999.25</td>\n",
       "      <td>-999.25</td>\n",
       "      <td>-999.25</td>\n",
       "      <td>-999.25</td>\n",
       "      <td>0.790</td>\n",
       "      <td>-999.25</td>\n",
       "    </tr>\n",
       "    <tr>\n",
       "      <th>1</th>\n",
       "      <td>2.12</td>\n",
       "      <td>-999.25</td>\n",
       "      <td>-999.25</td>\n",
       "      <td>-999.25</td>\n",
       "      <td>-999.25</td>\n",
       "      <td>0.790</td>\n",
       "      <td>-999.25</td>\n",
       "    </tr>\n",
       "    <tr>\n",
       "      <th>2</th>\n",
       "      <td>2.14</td>\n",
       "      <td>-999.25</td>\n",
       "      <td>-999.25</td>\n",
       "      <td>-999.25</td>\n",
       "      <td>-999.25</td>\n",
       "      <td>0.793</td>\n",
       "      <td>-999.25</td>\n",
       "    </tr>\n",
       "  </tbody>\n",
       "</table>\n",
       "</div>"
      ],
      "text/plain": [
       "   Dept  GGK(p)      DS      GR      BK    REZ     LIT\n",
       "0  2.10 -999.25 -999.25 -999.25 -999.25  0.790 -999.25\n",
       "1  2.12 -999.25 -999.25 -999.25 -999.25  0.790 -999.25\n",
       "2  2.14 -999.25 -999.25 -999.25 -999.25  0.793 -999.25"
      ]
     },
     "execution_count": 9,
     "metadata": {},
     "output_type": "execute_result"
    }
   ],
   "source": [
    "dtf_628.head(3)"
   ]
  },
  {
   "cell_type": "code",
   "execution_count": 241,
   "metadata": {},
   "outputs": [
    {
     "name": "stdout",
     "output_type": "stream",
     "text": [
      "\n"
     ]
    }
   ],
   "source": [
    "dtf_210.LIT.astype('category', copy=False)\n",
    "dtf_1763.LIT.astype('category', copy=False)\n",
    "dtf_1093.LIT.astype('category', copy=False)\n",
    "dtf_628.LIT.astype('category', copy=False)\n",
    "print()"
   ]
  },
  {
   "cell_type": "code",
   "execution_count": 242,
   "metadata": {},
   "outputs": [],
   "source": [
    "dtf_210[dtf_210 == -999.25] = np.nan\n",
    "dtf_1763[dtf_1763 == -999.25] = np.nan\n",
    "dtf_1093[dtf_1093 == -999.25] = np.nan\n",
    "dtf_628[dtf_628 == -999.25] = np.nan"
   ]
  },
  {
   "cell_type": "code",
   "execution_count": 243,
   "metadata": {},
   "outputs": [
    {
     "data": {
      "text/plain": [
       "Text(0.5,1,'dtf_628')"
      ]
     },
     "execution_count": 243,
     "metadata": {},
     "output_type": "execute_result"
    },
    {
     "data": {
      "image/png": "[encoded data removed]",
      "text/plain": [
       "<matplotlib.figure.Figure at 0x113846358>"
      ]
     },
     "metadata": {},
     "output_type": "display_data"
    }
   ],
   "source": [
    "fig, axis = plt.subplots(2, 2, figsize=(13, 7), sharex=True, sharey=True)\n",
    "sns.heatmap(dtf_210.corr(), annot=True, ax=axis[0, 0])\n",
    "axis[0, 0].set_title('dtf_210')\n",
    "sns.heatmap(dtf_1093.corr(), annot=True, ax=axis[0, 1])\n",
    "axis[0, 1].set_title('dtf_1093')\n",
    "sns.heatmap(dtf_1763.corr(), annot=True, ax=axis[1, 0])\n",
    "axis[1, 0].set_title('dtf_1763')\n",
    "sns.heatmap(dtf_628.corr(), annot=True, ax=axis[1, 1])\n",
    "axis[1, 1].set_title('dtf_628')"
   ]
  },
  {
   "cell_type": "markdown",
   "metadata": {},
   "source": [
    "#### "
   ]
  },
  {
   "cell_type": "markdown",
   "metadata": {},
   "source": [
    "### [Куст скважин](https://www.google.ru/search?q=%D0%BA%D1%83%D1%81%D1%82+%D1%81%D0%BA%D0%B2%D0%B0%D0%B6%D0%B8%D0%BD&newwindow=1&client=safari&rls=en&dcr=0&tbm=isch&source=iu&pf=m&ictx=1&fir=9ca7KdUffmDkkM%253A%252CxWarwb_k1F4EHM%252C_&usg=__koPjYzig1ThzCyw5PTk-gc2FicY%3D&sa=X&ved=0ahUKEwiElrvMtu3WAhUiOpoKHXORApkQ9QEIKTAA#imgrc=9ca7KdUffmDkkM:)"
   ]
  },
  {
   "cell_type": "code",
   "execution_count": 244,
   "metadata": {},
   "outputs": [],
   "source": [
    "dtf_1790_1 = pd.read_csv(data_source + '1790-1.csv', sep=';', decimal=',', encoding='cp1251')\n",
    "if 'Unnamed: 7' in dtf_1790_1.columns:\n",
    "    dtf_1790_1.drop(['Unnamed: 7'], inplace=True, axis=1)\n",
    "if 'Unnamed: 8' in dtf_1790_1.columns:\n",
    "    dtf_1790_1.drop(['Unnamed: 8'], inplace=True, axis=1)\n",
    "dtf_1790_2 = pd.read_csv(data_source + '1790-2.csv', sep=';', decimal=',', encoding='cp1251')\n",
    "dtf_1790_3 = pd.read_csv(data_source + '1790-3.csv', sep=';', decimal=',', encoding='cp1251')\n",
    "dtf_1790_4 = pd.read_csv(data_source + '1790-4.csv', sep=';', decimal=',', encoding='cp1251')"
   ]
  },
  {
   "cell_type": "code",
   "execution_count": 245,
   "metadata": {},
   "outputs": [
    {
     "data": {
      "text/plain": [
       "((5937, 7), (5900, 7), (5730, 7), (5588, 7))"
      ]
     },
     "execution_count": 245,
     "metadata": {},
     "output_type": "execute_result"
    }
   ],
   "source": [
    "dtf_1790_1.shape, dtf_1790_2.shape, dtf_1790_3.shape, dtf_1790_4.shape"
   ]
  },
  {
   "cell_type": "code",
   "execution_count": 236,
   "metadata": {},
   "outputs": [
    {
     "data": {
      "text/html": [
       "<div>\n",
       "<style>\n",
       "    .dataframe thead tr:only-child th {\n",
       "        text-align: right;\n",
       "    }\n",
       "\n",
       "    .dataframe thead th {\n",
       "        text-align: left;\n",
       "    }\n",
       "\n",
       "    .dataframe tbody tr th {\n",
       "        vertical-align: top;\n",
       "    }\n",
       "</style>\n",
       "<table border=\"1\" class=\"dataframe\">\n",
       "  <thead>\n",
       "    <tr style=\"text-align: right;\">\n",
       "      <th></th>\n",
       "      <th>Dept</th>\n",
       "      <th>GGK(p)</th>\n",
       "      <th>DS</th>\n",
       "      <th>GR</th>\n",
       "      <th>LIT</th>\n",
       "      <th>BK</th>\n",
       "      <th>REZ</th>\n",
       "    </tr>\n",
       "  </thead>\n",
       "  <tbody>\n",
       "    <tr>\n",
       "      <th>0</th>\n",
       "      <td>3.40</td>\n",
       "      <td>NaN</td>\n",
       "      <td>NaN</td>\n",
       "      <td>NaN</td>\n",
       "      <td>NaN</td>\n",
       "      <td>NaN</td>\n",
       "      <td>0.813</td>\n",
       "    </tr>\n",
       "    <tr>\n",
       "      <th>1</th>\n",
       "      <td>3.42</td>\n",
       "      <td>NaN</td>\n",
       "      <td>NaN</td>\n",
       "      <td>NaN</td>\n",
       "      <td>NaN</td>\n",
       "      <td>NaN</td>\n",
       "      <td>0.813</td>\n",
       "    </tr>\n",
       "    <tr>\n",
       "      <th>2</th>\n",
       "      <td>3.44</td>\n",
       "      <td>NaN</td>\n",
       "      <td>NaN</td>\n",
       "      <td>NaN</td>\n",
       "      <td>NaN</td>\n",
       "      <td>NaN</td>\n",
       "      <td>0.834</td>\n",
       "    </tr>\n",
       "  </tbody>\n",
       "</table>\n",
       "</div>"
      ],
      "text/plain": [
       "   Dept  GGK(p)  DS  GR  LIT  BK    REZ\n",
       "0  3.40     NaN NaN NaN  NaN NaN  0.813\n",
       "1  3.42     NaN NaN NaN  NaN NaN  0.813\n",
       "2  3.44     NaN NaN NaN  NaN NaN  0.834"
      ]
     },
     "execution_count": 236,
     "metadata": {},
     "output_type": "execute_result"
    }
   ],
   "source": [
    "dtf_1790_4.head(3)"
   ]
  },
  {
   "cell_type": "code",
   "execution_count": 238,
   "metadata": {
    "scrolled": true
   },
   "outputs": [
    {
     "data": {
      "text/html": [
       "<div>\n",
       "<style>\n",
       "    .dataframe thead tr:only-child th {\n",
       "        text-align: right;\n",
       "    }\n",
       "\n",
       "    .dataframe thead th {\n",
       "        text-align: left;\n",
       "    }\n",
       "\n",
       "    .dataframe tbody tr th {\n",
       "        vertical-align: top;\n",
       "    }\n",
       "</style>\n",
       "<table border=\"1\" class=\"dataframe\">\n",
       "  <thead>\n",
       "    <tr style=\"text-align: right;\">\n",
       "      <th></th>\n",
       "      <th>Dept</th>\n",
       "      <th>GGK(p)</th>\n",
       "      <th>DS</th>\n",
       "      <th>GR</th>\n",
       "      <th>LIT</th>\n",
       "      <th>BK</th>\n",
       "      <th>REZ</th>\n",
       "    </tr>\n",
       "  </thead>\n",
       "  <tbody>\n",
       "    <tr>\n",
       "      <th>4755</th>\n",
       "      <td>100.02</td>\n",
       "      <td>123385.000</td>\n",
       "      <td>99.665</td>\n",
       "      <td>6.694</td>\n",
       "      <td>1.0</td>\n",
       "      <td>399.942</td>\n",
       "      <td>0.714</td>\n",
       "    </tr>\n",
       "    <tr>\n",
       "      <th>4756</th>\n",
       "      <td>100.04</td>\n",
       "      <td>123700.000</td>\n",
       "      <td>99.665</td>\n",
       "      <td>6.686</td>\n",
       "      <td>1.0</td>\n",
       "      <td>422.109</td>\n",
       "      <td>0.714</td>\n",
       "    </tr>\n",
       "    <tr>\n",
       "      <th>4757</th>\n",
       "      <td>100.06</td>\n",
       "      <td>123020.000</td>\n",
       "      <td>99.665</td>\n",
       "      <td>6.708</td>\n",
       "      <td>1.0</td>\n",
       "      <td>455.158</td>\n",
       "      <td>0.715</td>\n",
       "    </tr>\n",
       "    <tr>\n",
       "      <th>4758</th>\n",
       "      <td>100.08</td>\n",
       "      <td>122050.000</td>\n",
       "      <td>99.665</td>\n",
       "      <td>6.886</td>\n",
       "      <td>1.0</td>\n",
       "      <td>466.024</td>\n",
       "      <td>0.714</td>\n",
       "    </tr>\n",
       "    <tr>\n",
       "      <th>4759</th>\n",
       "      <td>100.10</td>\n",
       "      <td>122520.000</td>\n",
       "      <td>99.665</td>\n",
       "      <td>6.731</td>\n",
       "      <td>1.0</td>\n",
       "      <td>448.198</td>\n",
       "      <td>0.715</td>\n",
       "    </tr>\n",
       "    <tr>\n",
       "      <th>4760</th>\n",
       "      <td>100.12</td>\n",
       "      <td>122270.000</td>\n",
       "      <td>99.665</td>\n",
       "      <td>6.553</td>\n",
       "      <td>1.0</td>\n",
       "      <td>425.018</td>\n",
       "      <td>0.716</td>\n",
       "    </tr>\n",
       "    <tr>\n",
       "      <th>4761</th>\n",
       "      <td>100.14</td>\n",
       "      <td>122300.000</td>\n",
       "      <td>99.665</td>\n",
       "      <td>6.930</td>\n",
       "      <td>1.0</td>\n",
       "      <td>403.411</td>\n",
       "      <td>0.715</td>\n",
       "    </tr>\n",
       "    <tr>\n",
       "      <th>4762</th>\n",
       "      <td>100.16</td>\n",
       "      <td>123536.664</td>\n",
       "      <td>99.665</td>\n",
       "      <td>7.152</td>\n",
       "      <td>1.0</td>\n",
       "      <td>369.139</td>\n",
       "      <td>0.715</td>\n",
       "    </tr>\n",
       "    <tr>\n",
       "      <th>4763</th>\n",
       "      <td>100.18</td>\n",
       "      <td>124420.000</td>\n",
       "      <td>99.665</td>\n",
       "      <td>6.664</td>\n",
       "      <td>1.0</td>\n",
       "      <td>341.528</td>\n",
       "      <td>0.715</td>\n",
       "    </tr>\n",
       "    <tr>\n",
       "      <th>4764</th>\n",
       "      <td>100.20</td>\n",
       "      <td>124708.000</td>\n",
       "      <td>99.665</td>\n",
       "      <td>6.686</td>\n",
       "      <td>1.0</td>\n",
       "      <td>327.614</td>\n",
       "      <td>0.715</td>\n",
       "    </tr>\n",
       "    <tr>\n",
       "      <th>4765</th>\n",
       "      <td>100.22</td>\n",
       "      <td>124893.336</td>\n",
       "      <td>99.665</td>\n",
       "      <td>6.842</td>\n",
       "      <td>1.0</td>\n",
       "      <td>298.683</td>\n",
       "      <td>0.715</td>\n",
       "    </tr>\n",
       "    <tr>\n",
       "      <th>4766</th>\n",
       "      <td>100.24</td>\n",
       "      <td>124725.000</td>\n",
       "      <td>99.665</td>\n",
       "      <td>6.797</td>\n",
       "      <td>1.0</td>\n",
       "      <td>292.461</td>\n",
       "      <td>0.715</td>\n",
       "    </tr>\n",
       "    <tr>\n",
       "      <th>4767</th>\n",
       "      <td>100.26</td>\n",
       "      <td>124673.336</td>\n",
       "      <td>99.665</td>\n",
       "      <td>6.620</td>\n",
       "      <td>1.0</td>\n",
       "      <td>287.391</td>\n",
       "      <td>0.715</td>\n",
       "    </tr>\n",
       "    <tr>\n",
       "      <th>4768</th>\n",
       "      <td>100.28</td>\n",
       "      <td>125685.000</td>\n",
       "      <td>99.665</td>\n",
       "      <td>7.285</td>\n",
       "      <td>1.0</td>\n",
       "      <td>280.929</td>\n",
       "      <td>0.715</td>\n",
       "    </tr>\n",
       "    <tr>\n",
       "      <th>4769</th>\n",
       "      <td>100.30</td>\n",
       "      <td>124780.000</td>\n",
       "      <td>99.665</td>\n",
       "      <td>7.307</td>\n",
       "      <td>1.0</td>\n",
       "      <td>271.111</td>\n",
       "      <td>0.716</td>\n",
       "    </tr>\n",
       "    <tr>\n",
       "      <th>4770</th>\n",
       "      <td>100.32</td>\n",
       "      <td>125246.664</td>\n",
       "      <td>99.690</td>\n",
       "      <td>6.930</td>\n",
       "      <td>1.0</td>\n",
       "      <td>265.963</td>\n",
       "      <td>0.716</td>\n",
       "    </tr>\n",
       "    <tr>\n",
       "      <th>4771</th>\n",
       "      <td>100.34</td>\n",
       "      <td>125135.000</td>\n",
       "      <td>99.716</td>\n",
       "      <td>7.706</td>\n",
       "      <td>1.0</td>\n",
       "      <td>267.920</td>\n",
       "      <td>0.717</td>\n",
       "    </tr>\n",
       "    <tr>\n",
       "      <th>4772</th>\n",
       "      <td>100.36</td>\n",
       "      <td>125080.000</td>\n",
       "      <td>99.665</td>\n",
       "      <td>7.618</td>\n",
       "      <td>1.0</td>\n",
       "      <td>269.899</td>\n",
       "      <td>0.717</td>\n",
       "    </tr>\n",
       "    <tr>\n",
       "      <th>4773</th>\n",
       "      <td>100.38</td>\n",
       "      <td>125580.000</td>\n",
       "      <td>99.665</td>\n",
       "      <td>7.595</td>\n",
       "      <td>1.0</td>\n",
       "      <td>273.297</td>\n",
       "      <td>0.717</td>\n",
       "    </tr>\n",
       "    <tr>\n",
       "      <th>4774</th>\n",
       "      <td>100.40</td>\n",
       "      <td>126045.000</td>\n",
       "      <td>99.665</td>\n",
       "      <td>7.085</td>\n",
       "      <td>1.0</td>\n",
       "      <td>284.516</td>\n",
       "      <td>0.716</td>\n",
       "    </tr>\n",
       "    <tr>\n",
       "      <th>4775</th>\n",
       "      <td>100.42</td>\n",
       "      <td>125675.000</td>\n",
       "      <td>99.665</td>\n",
       "      <td>7.137</td>\n",
       "      <td>1.0</td>\n",
       "      <td>287.382</td>\n",
       "      <td>0.716</td>\n",
       "    </tr>\n",
       "    <tr>\n",
       "      <th>4776</th>\n",
       "      <td>100.44</td>\n",
       "      <td>126165.000</td>\n",
       "      <td>99.665</td>\n",
       "      <td>6.598</td>\n",
       "      <td>1.0</td>\n",
       "      <td>279.099</td>\n",
       "      <td>0.715</td>\n",
       "    </tr>\n",
       "    <tr>\n",
       "      <th>4777</th>\n",
       "      <td>100.46</td>\n",
       "      <td>126610.000</td>\n",
       "      <td>99.665</td>\n",
       "      <td>6.620</td>\n",
       "      <td>1.0</td>\n",
       "      <td>258.735</td>\n",
       "      <td>0.715</td>\n",
       "    </tr>\n",
       "    <tr>\n",
       "      <th>4778</th>\n",
       "      <td>100.48</td>\n",
       "      <td>127630.000</td>\n",
       "      <td>99.665</td>\n",
       "      <td>6.731</td>\n",
       "      <td>1.0</td>\n",
       "      <td>217.662</td>\n",
       "      <td>0.715</td>\n",
       "    </tr>\n",
       "    <tr>\n",
       "      <th>4779</th>\n",
       "      <td>100.50</td>\n",
       "      <td>128425.000</td>\n",
       "      <td>99.703</td>\n",
       "      <td>6.287</td>\n",
       "      <td>1.0</td>\n",
       "      <td>200.885</td>\n",
       "      <td>0.715</td>\n",
       "    </tr>\n",
       "    <tr>\n",
       "      <th>4780</th>\n",
       "      <td>100.52</td>\n",
       "      <td>130390.000</td>\n",
       "      <td>99.690</td>\n",
       "      <td>6.176</td>\n",
       "      <td>1.0</td>\n",
       "      <td>178.037</td>\n",
       "      <td>0.714</td>\n",
       "    </tr>\n",
       "    <tr>\n",
       "      <th>4781</th>\n",
       "      <td>100.54</td>\n",
       "      <td>130963.336</td>\n",
       "      <td>99.665</td>\n",
       "      <td>6.420</td>\n",
       "      <td>1.0</td>\n",
       "      <td>154.979</td>\n",
       "      <td>0.714</td>\n",
       "    </tr>\n",
       "    <tr>\n",
       "      <th>4782</th>\n",
       "      <td>100.56</td>\n",
       "      <td>132760.000</td>\n",
       "      <td>99.665</td>\n",
       "      <td>6.797</td>\n",
       "      <td>1.0</td>\n",
       "      <td>148.523</td>\n",
       "      <td>0.715</td>\n",
       "    </tr>\n",
       "    <tr>\n",
       "      <th>4783</th>\n",
       "      <td>100.58</td>\n",
       "      <td>133544.000</td>\n",
       "      <td>99.722</td>\n",
       "      <td>6.886</td>\n",
       "      <td>1.0</td>\n",
       "      <td>132.991</td>\n",
       "      <td>0.714</td>\n",
       "    </tr>\n",
       "    <tr>\n",
       "      <th>4784</th>\n",
       "      <td>100.60</td>\n",
       "      <td>134300.000</td>\n",
       "      <td>99.665</td>\n",
       "      <td>7.130</td>\n",
       "      <td>1.0</td>\n",
       "      <td>114.880</td>\n",
       "      <td>0.714</td>\n",
       "    </tr>\n",
       "    <tr>\n",
       "      <th>...</th>\n",
       "      <td>...</td>\n",
       "      <td>...</td>\n",
       "      <td>...</td>\n",
       "      <td>...</td>\n",
       "      <td>...</td>\n",
       "      <td>...</td>\n",
       "      <td>...</td>\n",
       "    </tr>\n",
       "    <tr>\n",
       "      <th>5870</th>\n",
       "      <td>122.32</td>\n",
       "      <td>NaN</td>\n",
       "      <td>NaN</td>\n",
       "      <td>NaN</td>\n",
       "      <td>NaN</td>\n",
       "      <td>NaN</td>\n",
       "      <td>NaN</td>\n",
       "    </tr>\n",
       "    <tr>\n",
       "      <th>5871</th>\n",
       "      <td>122.34</td>\n",
       "      <td>NaN</td>\n",
       "      <td>NaN</td>\n",
       "      <td>NaN</td>\n",
       "      <td>NaN</td>\n",
       "      <td>NaN</td>\n",
       "      <td>NaN</td>\n",
       "    </tr>\n",
       "    <tr>\n",
       "      <th>5872</th>\n",
       "      <td>122.36</td>\n",
       "      <td>NaN</td>\n",
       "      <td>NaN</td>\n",
       "      <td>NaN</td>\n",
       "      <td>NaN</td>\n",
       "      <td>NaN</td>\n",
       "      <td>NaN</td>\n",
       "    </tr>\n",
       "    <tr>\n",
       "      <th>5873</th>\n",
       "      <td>122.38</td>\n",
       "      <td>NaN</td>\n",
       "      <td>NaN</td>\n",
       "      <td>NaN</td>\n",
       "      <td>NaN</td>\n",
       "      <td>NaN</td>\n",
       "      <td>NaN</td>\n",
       "    </tr>\n",
       "    <tr>\n",
       "      <th>5874</th>\n",
       "      <td>122.40</td>\n",
       "      <td>NaN</td>\n",
       "      <td>NaN</td>\n",
       "      <td>NaN</td>\n",
       "      <td>NaN</td>\n",
       "      <td>NaN</td>\n",
       "      <td>NaN</td>\n",
       "    </tr>\n",
       "    <tr>\n",
       "      <th>5875</th>\n",
       "      <td>122.42</td>\n",
       "      <td>NaN</td>\n",
       "      <td>NaN</td>\n",
       "      <td>NaN</td>\n",
       "      <td>NaN</td>\n",
       "      <td>NaN</td>\n",
       "      <td>NaN</td>\n",
       "    </tr>\n",
       "    <tr>\n",
       "      <th>5876</th>\n",
       "      <td>122.44</td>\n",
       "      <td>NaN</td>\n",
       "      <td>NaN</td>\n",
       "      <td>NaN</td>\n",
       "      <td>NaN</td>\n",
       "      <td>NaN</td>\n",
       "      <td>NaN</td>\n",
       "    </tr>\n",
       "    <tr>\n",
       "      <th>5877</th>\n",
       "      <td>122.46</td>\n",
       "      <td>NaN</td>\n",
       "      <td>NaN</td>\n",
       "      <td>NaN</td>\n",
       "      <td>NaN</td>\n",
       "      <td>NaN</td>\n",
       "      <td>NaN</td>\n",
       "    </tr>\n",
       "    <tr>\n",
       "      <th>5878</th>\n",
       "      <td>122.48</td>\n",
       "      <td>NaN</td>\n",
       "      <td>NaN</td>\n",
       "      <td>NaN</td>\n",
       "      <td>NaN</td>\n",
       "      <td>NaN</td>\n",
       "      <td>NaN</td>\n",
       "    </tr>\n",
       "    <tr>\n",
       "      <th>5879</th>\n",
       "      <td>122.50</td>\n",
       "      <td>NaN</td>\n",
       "      <td>NaN</td>\n",
       "      <td>NaN</td>\n",
       "      <td>NaN</td>\n",
       "      <td>NaN</td>\n",
       "      <td>NaN</td>\n",
       "    </tr>\n",
       "    <tr>\n",
       "      <th>5880</th>\n",
       "      <td>122.52</td>\n",
       "      <td>NaN</td>\n",
       "      <td>NaN</td>\n",
       "      <td>NaN</td>\n",
       "      <td>NaN</td>\n",
       "      <td>NaN</td>\n",
       "      <td>NaN</td>\n",
       "    </tr>\n",
       "    <tr>\n",
       "      <th>5881</th>\n",
       "      <td>122.54</td>\n",
       "      <td>NaN</td>\n",
       "      <td>NaN</td>\n",
       "      <td>NaN</td>\n",
       "      <td>NaN</td>\n",
       "      <td>NaN</td>\n",
       "      <td>NaN</td>\n",
       "    </tr>\n",
       "    <tr>\n",
       "      <th>5882</th>\n",
       "      <td>122.56</td>\n",
       "      <td>NaN</td>\n",
       "      <td>NaN</td>\n",
       "      <td>NaN</td>\n",
       "      <td>NaN</td>\n",
       "      <td>NaN</td>\n",
       "      <td>NaN</td>\n",
       "    </tr>\n",
       "    <tr>\n",
       "      <th>5883</th>\n",
       "      <td>122.58</td>\n",
       "      <td>NaN</td>\n",
       "      <td>NaN</td>\n",
       "      <td>NaN</td>\n",
       "      <td>NaN</td>\n",
       "      <td>NaN</td>\n",
       "      <td>NaN</td>\n",
       "    </tr>\n",
       "    <tr>\n",
       "      <th>5884</th>\n",
       "      <td>122.60</td>\n",
       "      <td>NaN</td>\n",
       "      <td>NaN</td>\n",
       "      <td>NaN</td>\n",
       "      <td>NaN</td>\n",
       "      <td>NaN</td>\n",
       "      <td>NaN</td>\n",
       "    </tr>\n",
       "    <tr>\n",
       "      <th>5885</th>\n",
       "      <td>122.62</td>\n",
       "      <td>NaN</td>\n",
       "      <td>NaN</td>\n",
       "      <td>NaN</td>\n",
       "      <td>NaN</td>\n",
       "      <td>NaN</td>\n",
       "      <td>NaN</td>\n",
       "    </tr>\n",
       "    <tr>\n",
       "      <th>5886</th>\n",
       "      <td>122.64</td>\n",
       "      <td>NaN</td>\n",
       "      <td>NaN</td>\n",
       "      <td>NaN</td>\n",
       "      <td>NaN</td>\n",
       "      <td>NaN</td>\n",
       "      <td>NaN</td>\n",
       "    </tr>\n",
       "    <tr>\n",
       "      <th>5887</th>\n",
       "      <td>122.66</td>\n",
       "      <td>NaN</td>\n",
       "      <td>NaN</td>\n",
       "      <td>NaN</td>\n",
       "      <td>NaN</td>\n",
       "      <td>NaN</td>\n",
       "      <td>NaN</td>\n",
       "    </tr>\n",
       "    <tr>\n",
       "      <th>5888</th>\n",
       "      <td>122.68</td>\n",
       "      <td>NaN</td>\n",
       "      <td>NaN</td>\n",
       "      <td>NaN</td>\n",
       "      <td>NaN</td>\n",
       "      <td>NaN</td>\n",
       "      <td>NaN</td>\n",
       "    </tr>\n",
       "    <tr>\n",
       "      <th>5889</th>\n",
       "      <td>122.70</td>\n",
       "      <td>NaN</td>\n",
       "      <td>NaN</td>\n",
       "      <td>NaN</td>\n",
       "      <td>NaN</td>\n",
       "      <td>NaN</td>\n",
       "      <td>NaN</td>\n",
       "    </tr>\n",
       "    <tr>\n",
       "      <th>5890</th>\n",
       "      <td>122.72</td>\n",
       "      <td>NaN</td>\n",
       "      <td>NaN</td>\n",
       "      <td>NaN</td>\n",
       "      <td>NaN</td>\n",
       "      <td>NaN</td>\n",
       "      <td>NaN</td>\n",
       "    </tr>\n",
       "    <tr>\n",
       "      <th>5891</th>\n",
       "      <td>122.74</td>\n",
       "      <td>NaN</td>\n",
       "      <td>NaN</td>\n",
       "      <td>NaN</td>\n",
       "      <td>NaN</td>\n",
       "      <td>NaN</td>\n",
       "      <td>NaN</td>\n",
       "    </tr>\n",
       "    <tr>\n",
       "      <th>5892</th>\n",
       "      <td>122.76</td>\n",
       "      <td>NaN</td>\n",
       "      <td>NaN</td>\n",
       "      <td>NaN</td>\n",
       "      <td>NaN</td>\n",
       "      <td>NaN</td>\n",
       "      <td>NaN</td>\n",
       "    </tr>\n",
       "    <tr>\n",
       "      <th>5893</th>\n",
       "      <td>122.78</td>\n",
       "      <td>NaN</td>\n",
       "      <td>NaN</td>\n",
       "      <td>NaN</td>\n",
       "      <td>NaN</td>\n",
       "      <td>NaN</td>\n",
       "      <td>NaN</td>\n",
       "    </tr>\n",
       "    <tr>\n",
       "      <th>5894</th>\n",
       "      <td>122.80</td>\n",
       "      <td>NaN</td>\n",
       "      <td>NaN</td>\n",
       "      <td>NaN</td>\n",
       "      <td>NaN</td>\n",
       "      <td>NaN</td>\n",
       "      <td>NaN</td>\n",
       "    </tr>\n",
       "    <tr>\n",
       "      <th>5895</th>\n",
       "      <td>122.82</td>\n",
       "      <td>NaN</td>\n",
       "      <td>NaN</td>\n",
       "      <td>NaN</td>\n",
       "      <td>NaN</td>\n",
       "      <td>NaN</td>\n",
       "      <td>NaN</td>\n",
       "    </tr>\n",
       "    <tr>\n",
       "      <th>5896</th>\n",
       "      <td>122.84</td>\n",
       "      <td>NaN</td>\n",
       "      <td>NaN</td>\n",
       "      <td>NaN</td>\n",
       "      <td>NaN</td>\n",
       "      <td>NaN</td>\n",
       "      <td>NaN</td>\n",
       "    </tr>\n",
       "    <tr>\n",
       "      <th>5897</th>\n",
       "      <td>122.86</td>\n",
       "      <td>NaN</td>\n",
       "      <td>NaN</td>\n",
       "      <td>NaN</td>\n",
       "      <td>NaN</td>\n",
       "      <td>NaN</td>\n",
       "      <td>NaN</td>\n",
       "    </tr>\n",
       "    <tr>\n",
       "      <th>5898</th>\n",
       "      <td>122.88</td>\n",
       "      <td>NaN</td>\n",
       "      <td>NaN</td>\n",
       "      <td>NaN</td>\n",
       "      <td>NaN</td>\n",
       "      <td>NaN</td>\n",
       "      <td>NaN</td>\n",
       "    </tr>\n",
       "    <tr>\n",
       "      <th>5899</th>\n",
       "      <td>122.90</td>\n",
       "      <td>NaN</td>\n",
       "      <td>NaN</td>\n",
       "      <td>NaN</td>\n",
       "      <td>NaN</td>\n",
       "      <td>NaN</td>\n",
       "      <td>NaN</td>\n",
       "    </tr>\n",
       "  </tbody>\n",
       "</table>\n",
       "<p>1145 rows × 7 columns</p>\n",
       "</div>"
      ],
      "text/plain": [
       "        Dept      GGK(p)      DS     GR  LIT       BK    REZ\n",
       "4755  100.02  123385.000  99.665  6.694  1.0  399.942  0.714\n",
       "4756  100.04  123700.000  99.665  6.686  1.0  422.109  0.714\n",
       "4757  100.06  123020.000  99.665  6.708  1.0  455.158  0.715\n",
       "4758  100.08  122050.000  99.665  6.886  1.0  466.024  0.714\n",
       "4759  100.10  122520.000  99.665  6.731  1.0  448.198  0.715\n",
       "4760  100.12  122270.000  99.665  6.553  1.0  425.018  0.716\n",
       "4761  100.14  122300.000  99.665  6.930  1.0  403.411  0.715\n",
       "4762  100.16  123536.664  99.665  7.152  1.0  369.139  0.715\n",
       "4763  100.18  124420.000  99.665  6.664  1.0  341.528  0.715\n",
       "4764  100.20  124708.000  99.665  6.686  1.0  327.614  0.715\n",
       "4765  100.22  124893.336  99.665  6.842  1.0  298.683  0.715\n",
       "4766  100.24  124725.000  99.665  6.797  1.0  292.461  0.715\n",
       "4767  100.26  124673.336  99.665  6.620  1.0  287.391  0.715\n",
       "4768  100.28  125685.000  99.665  7.285  1.0  280.929  0.715\n",
       "4769  100.30  124780.000  99.665  7.307  1.0  271.111  0.716\n",
       "4770  100.32  125246.664  99.690  6.930  1.0  265.963  0.716\n",
       "4771  100.34  125135.000  99.716  7.706  1.0  267.920  0.717\n",
       "4772  100.36  125080.000  99.665  7.618  1.0  269.899  0.717\n",
       "4773  100.38  125580.000  99.665  7.595  1.0  273.297  0.717\n",
       "4774  100.40  126045.000  99.665  7.085  1.0  284.516  0.716\n",
       "4775  100.42  125675.000  99.665  7.137  1.0  287.382  0.716\n",
       "4776  100.44  126165.000  99.665  6.598  1.0  279.099  0.715\n",
       "4777  100.46  126610.000  99.665  6.620  1.0  258.735  0.715\n",
       "4778  100.48  127630.000  99.665  6.731  1.0  217.662  0.715\n",
       "4779  100.50  128425.000  99.703  6.287  1.0  200.885  0.715\n",
       "4780  100.52  130390.000  99.690  6.176  1.0  178.037  0.714\n",
       "4781  100.54  130963.336  99.665  6.420  1.0  154.979  0.714\n",
       "4782  100.56  132760.000  99.665  6.797  1.0  148.523  0.715\n",
       "4783  100.58  133544.000  99.722  6.886  1.0  132.991  0.714\n",
       "4784  100.60  134300.000  99.665  7.130  1.0  114.880  0.714\n",
       "...      ...         ...     ...    ...  ...      ...    ...\n",
       "5870  122.32         NaN     NaN    NaN  NaN      NaN    NaN\n",
       "5871  122.34         NaN     NaN    NaN  NaN      NaN    NaN\n",
       "5872  122.36         NaN     NaN    NaN  NaN      NaN    NaN\n",
       "5873  122.38         NaN     NaN    NaN  NaN      NaN    NaN\n",
       "5874  122.40         NaN     NaN    NaN  NaN      NaN    NaN\n",
       "5875  122.42         NaN     NaN    NaN  NaN      NaN    NaN\n",
       "5876  122.44         NaN     NaN    NaN  NaN      NaN    NaN\n",
       "5877  122.46         NaN     NaN    NaN  NaN      NaN    NaN\n",
       "5878  122.48         NaN     NaN    NaN  NaN      NaN    NaN\n",
       "5879  122.50         NaN     NaN    NaN  NaN      NaN    NaN\n",
       "5880  122.52         NaN     NaN    NaN  NaN      NaN    NaN\n",
       "5881  122.54         NaN     NaN    NaN  NaN      NaN    NaN\n",
       "5882  122.56         NaN     NaN    NaN  NaN      NaN    NaN\n",
       "5883  122.58         NaN     NaN    NaN  NaN      NaN    NaN\n",
       "5884  122.60         NaN     NaN    NaN  NaN      NaN    NaN\n",
       "5885  122.62         NaN     NaN    NaN  NaN      NaN    NaN\n",
       "5886  122.64         NaN     NaN    NaN  NaN      NaN    NaN\n",
       "5887  122.66         NaN     NaN    NaN  NaN      NaN    NaN\n",
       "5888  122.68         NaN     NaN    NaN  NaN      NaN    NaN\n",
       "5889  122.70         NaN     NaN    NaN  NaN      NaN    NaN\n",
       "5890  122.72         NaN     NaN    NaN  NaN      NaN    NaN\n",
       "5891  122.74         NaN     NaN    NaN  NaN      NaN    NaN\n",
       "5892  122.76         NaN     NaN    NaN  NaN      NaN    NaN\n",
       "5893  122.78         NaN     NaN    NaN  NaN      NaN    NaN\n",
       "5894  122.80         NaN     NaN    NaN  NaN      NaN    NaN\n",
       "5895  122.82         NaN     NaN    NaN  NaN      NaN    NaN\n",
       "5896  122.84         NaN     NaN    NaN  NaN      NaN    NaN\n",
       "5897  122.86         NaN     NaN    NaN  NaN      NaN    NaN\n",
       "5898  122.88         NaN     NaN    NaN  NaN      NaN    NaN\n",
       "5899  122.90         NaN     NaN    NaN  NaN      NaN    NaN\n",
       "\n",
       "[1145 rows x 7 columns]"
      ]
     },
     "execution_count": 238,
     "metadata": {},
     "output_type": "execute_result"
    }
   ],
   "source": [
    "dtf_1790_2[dtf_1790_2.Dept > 100]"
   ]
  },
  {
   "cell_type": "code",
   "execution_count": 246,
   "metadata": {},
   "outputs": [],
   "source": [
    "dtf_1790_1[dtf_1790_1 == -999.25] = np.nan\n",
    "dtf_1790_2[dtf_1790_2 == -999.25] = np.nan\n",
    "dtf_1790_3[dtf_1790_3 == -999.25] = np.nan\n",
    "dtf_1790_4[dtf_1790_4 == -999.25] = np.nan"
   ]
  },
  {
   "cell_type": "code",
   "execution_count": 247,
   "metadata": {},
   "outputs": [
    {
     "name": "stdout",
     "output_type": "stream",
     "text": [
      "\n"
     ]
    }
   ],
   "source": [
    "dtf_1790_1.LIT.astype('category', copy=False)\n",
    "dtf_1790_2.LIT.astype('category', copy=False)\n",
    "dtf_1790_3.LIT.astype('category', copy=False)\n",
    "dtf_1790_4.LIT.astype('category', copy=False)\n",
    "print()"
   ]
  },
  {
   "cell_type": "code",
   "execution_count": 234,
   "metadata": {},
   "outputs": [
    {
     "name": "stderr",
     "output_type": "stream",
     "text": [
      "/Volumes/Media/Documents/Programming/Git/(DD)-gitlab-projects/carrot/venv/lib/python3.6/site-packages/numpy/lib/function_base.py:748: RuntimeWarning: invalid value encountered in greater_equal\n",
      "  keep = (tmp_a >= mn)\n",
      "/Volumes/Media/Documents/Programming/Git/(DD)-gitlab-projects/carrot/venv/lib/python3.6/site-packages/numpy/lib/function_base.py:749: RuntimeWarning: invalid value encountered in less_equal\n",
      "  keep &= (tmp_a <= mx)\n"
     ]
    },
    {
     "ename": "ValueError",
     "evalue": "max must be larger than min in range parameter.",
     "output_type": "error",
     "traceback": [
      "\u001b[0;31m---------------------------------------------------------------------------\u001b[0m",
      "\u001b[0;31mValueError\u001b[0m                                Traceback (most recent call last)",
      "\u001b[0;32m<ipython-input-234-8ec3d88ba57a>\u001b[0m in \u001b[0;36m<module>\u001b[0;34m()\u001b[0m\n\u001b[0;32m----> 1\u001b[0;31m \u001b[0msns\u001b[0m\u001b[0;34m.\u001b[0m\u001b[0mpairplot\u001b[0m\u001b[0;34m(\u001b[0m\u001b[0mpd\u001b[0m\u001b[0;34m.\u001b[0m\u001b[0mconcat\u001b[0m\u001b[0;34m(\u001b[0m\u001b[0;34m[\u001b[0m\u001b[0mdtf_1790_1\u001b[0m\u001b[0;34m,\u001b[0m \u001b[0mdtf_1790_2\u001b[0m\u001b[0;34m,\u001b[0m \u001b[0mdtf_1790_3\u001b[0m\u001b[0;34m,\u001b[0m \u001b[0mdtf_1790_4\u001b[0m\u001b[0;34m]\u001b[0m\u001b[0;34m,\u001b[0m \u001b[0mignore_index\u001b[0m\u001b[0;34m=\u001b[0m\u001b[0;32mTrue\u001b[0m\u001b[0;34m)\u001b[0m\u001b[0;34m,\u001b[0m \u001b[0mhue\u001b[0m\u001b[0;34m=\u001b[0m\u001b[0;34m'LIT'\u001b[0m\u001b[0;34m)\u001b[0m\u001b[0;34m\u001b[0m\u001b[0m\n\u001b[0m",
      "\u001b[0;32m/Volumes/Media/Documents/Programming/Git/(DD)-gitlab-projects/carrot/venv/lib/python3.6/site-packages/seaborn/axisgrid.py\u001b[0m in \u001b[0;36mpairplot\u001b[0;34m(data, hue, hue_order, palette, vars, x_vars, y_vars, kind, diag_kind, markers, size, aspect, dropna, plot_kws, diag_kws, grid_kws)\u001b[0m\n\u001b[1;32m   2058\u001b[0m     \u001b[0;32mif\u001b[0m \u001b[0mgrid\u001b[0m\u001b[0;34m.\u001b[0m\u001b[0msquare_grid\u001b[0m\u001b[0;34m:\u001b[0m\u001b[0;34m\u001b[0m\u001b[0m\n\u001b[1;32m   2059\u001b[0m         \u001b[0;32mif\u001b[0m \u001b[0mdiag_kind\u001b[0m \u001b[0;34m==\u001b[0m \u001b[0;34m\"hist\"\u001b[0m\u001b[0;34m:\u001b[0m\u001b[0;34m\u001b[0m\u001b[0m\n\u001b[0;32m-> 2060\u001b[0;31m             \u001b[0mgrid\u001b[0m\u001b[0;34m.\u001b[0m\u001b[0mmap_diag\u001b[0m\u001b[0;34m(\u001b[0m\u001b[0mplt\u001b[0m\u001b[0;34m.\u001b[0m\u001b[0mhist\u001b[0m\u001b[0;34m,\u001b[0m \u001b[0;34m**\u001b[0m\u001b[0mdiag_kws\u001b[0m\u001b[0;34m)\u001b[0m\u001b[0;34m\u001b[0m\u001b[0m\n\u001b[0m\u001b[1;32m   2061\u001b[0m         \u001b[0;32melif\u001b[0m \u001b[0mdiag_kind\u001b[0m \u001b[0;34m==\u001b[0m \u001b[0;34m\"kde\"\u001b[0m\u001b[0;34m:\u001b[0m\u001b[0;34m\u001b[0m\u001b[0m\n\u001b[1;32m   2062\u001b[0m             \u001b[0mdiag_kws\u001b[0m\u001b[0;34m[\u001b[0m\u001b[0;34m\"legend\"\u001b[0m\u001b[0;34m]\u001b[0m \u001b[0;34m=\u001b[0m \u001b[0;32mFalse\u001b[0m\u001b[0;34m\u001b[0m\u001b[0m\n",
      "\u001b[0;32m/Volumes/Media/Documents/Programming/Git/(DD)-gitlab-projects/carrot/venv/lib/python3.6/site-packages/seaborn/axisgrid.py\u001b[0m in \u001b[0;36mmap_diag\u001b[0;34m(self, func, **kwargs)\u001b[0m\n\u001b[1;32m   1363\u001b[0m                     \u001b[0mfunc\u001b[0m\u001b[0;34m(\u001b[0m\u001b[0mvals\u001b[0m\u001b[0;34m,\u001b[0m \u001b[0mcolor\u001b[0m\u001b[0;34m=\u001b[0m\u001b[0mcolor\u001b[0m\u001b[0;34m,\u001b[0m \u001b[0;34m**\u001b[0m\u001b[0mkwargs\u001b[0m\u001b[0;34m)\u001b[0m\u001b[0;34m\u001b[0m\u001b[0m\n\u001b[1;32m   1364\u001b[0m                 \u001b[0;32melse\u001b[0m\u001b[0;34m:\u001b[0m\u001b[0;34m\u001b[0m\u001b[0m\n\u001b[0;32m-> 1365\u001b[0;31m                     \u001b[0mfunc\u001b[0m\u001b[0;34m(\u001b[0m\u001b[0mvals\u001b[0m\u001b[0;34m,\u001b[0m \u001b[0mcolor\u001b[0m\u001b[0;34m=\u001b[0m\u001b[0mcolor\u001b[0m\u001b[0;34m,\u001b[0m \u001b[0mhisttype\u001b[0m\u001b[0;34m=\u001b[0m\u001b[0;34m\"barstacked\"\u001b[0m\u001b[0;34m,\u001b[0m \u001b[0;34m**\u001b[0m\u001b[0mkwargs\u001b[0m\u001b[0;34m)\u001b[0m\u001b[0;34m\u001b[0m\u001b[0m\n\u001b[0m\u001b[1;32m   1366\u001b[0m \u001b[0;34m\u001b[0m\u001b[0m\n\u001b[1;32m   1367\u001b[0m             \u001b[0;32melse\u001b[0m\u001b[0;34m:\u001b[0m\u001b[0;34m\u001b[0m\u001b[0m\n",
      "\u001b[0;32m/Volumes/Media/Documents/Programming/Git/(DD)-gitlab-projects/carrot/venv/lib/python3.6/site-packages/matplotlib/pyplot.py\u001b[0m in \u001b[0;36mhist\u001b[0;34m(x, bins, range, density, weights, cumulative, bottom, histtype, align, orientation, rwidth, log, color, label, stacked, normed, hold, data, **kwargs)\u001b[0m\n\u001b[1;32m   3002\u001b[0m                       \u001b[0mhisttype\u001b[0m\u001b[0;34m=\u001b[0m\u001b[0mhisttype\u001b[0m\u001b[0;34m,\u001b[0m \u001b[0malign\u001b[0m\u001b[0;34m=\u001b[0m\u001b[0malign\u001b[0m\u001b[0;34m,\u001b[0m \u001b[0morientation\u001b[0m\u001b[0;34m=\u001b[0m\u001b[0morientation\u001b[0m\u001b[0;34m,\u001b[0m\u001b[0;34m\u001b[0m\u001b[0m\n\u001b[1;32m   3003\u001b[0m                       \u001b[0mrwidth\u001b[0m\u001b[0;34m=\u001b[0m\u001b[0mrwidth\u001b[0m\u001b[0;34m,\u001b[0m \u001b[0mlog\u001b[0m\u001b[0;34m=\u001b[0m\u001b[0mlog\u001b[0m\u001b[0;34m,\u001b[0m \u001b[0mcolor\u001b[0m\u001b[0;34m=\u001b[0m\u001b[0mcolor\u001b[0m\u001b[0;34m,\u001b[0m \u001b[0mlabel\u001b[0m\u001b[0;34m=\u001b[0m\u001b[0mlabel\u001b[0m\u001b[0;34m,\u001b[0m\u001b[0;34m\u001b[0m\u001b[0m\n\u001b[0;32m-> 3004\u001b[0;31m                       stacked=stacked, normed=normed, data=data, **kwargs)\n\u001b[0m\u001b[1;32m   3005\u001b[0m     \u001b[0;32mfinally\u001b[0m\u001b[0;34m:\u001b[0m\u001b[0;34m\u001b[0m\u001b[0m\n\u001b[1;32m   3006\u001b[0m         \u001b[0max\u001b[0m\u001b[0;34m.\u001b[0m\u001b[0m_hold\u001b[0m \u001b[0;34m=\u001b[0m \u001b[0mwashold\u001b[0m\u001b[0;34m\u001b[0m\u001b[0m\n",
      "\u001b[0;32m/Volumes/Media/Documents/Programming/Git/(DD)-gitlab-projects/carrot/venv/lib/python3.6/site-packages/matplotlib/__init__.py\u001b[0m in \u001b[0;36minner\u001b[0;34m(ax, *args, **kwargs)\u001b[0m\n\u001b[1;32m   1708\u001b[0m                     warnings.warn(msg % (label_namer, func.__name__),\n\u001b[1;32m   1709\u001b[0m                                   RuntimeWarning, stacklevel=2)\n\u001b[0;32m-> 1710\u001b[0;31m             \u001b[0;32mreturn\u001b[0m \u001b[0mfunc\u001b[0m\u001b[0;34m(\u001b[0m\u001b[0max\u001b[0m\u001b[0;34m,\u001b[0m \u001b[0;34m*\u001b[0m\u001b[0margs\u001b[0m\u001b[0;34m,\u001b[0m \u001b[0;34m**\u001b[0m\u001b[0mkwargs\u001b[0m\u001b[0;34m)\u001b[0m\u001b[0;34m\u001b[0m\u001b[0m\n\u001b[0m\u001b[1;32m   1711\u001b[0m         \u001b[0mpre_doc\u001b[0m \u001b[0;34m=\u001b[0m \u001b[0minner\u001b[0m\u001b[0;34m.\u001b[0m\u001b[0m__doc__\u001b[0m\u001b[0;34m\u001b[0m\u001b[0m\n\u001b[1;32m   1712\u001b[0m         \u001b[0;32mif\u001b[0m \u001b[0mpre_doc\u001b[0m \u001b[0;32mis\u001b[0m \u001b[0;32mNone\u001b[0m\u001b[0;34m:\u001b[0m\u001b[0;34m\u001b[0m\u001b[0m\n",
      "\u001b[0;32m/Volumes/Media/Documents/Programming/Git/(DD)-gitlab-projects/carrot/venv/lib/python3.6/site-packages/matplotlib/axes/_axes.py\u001b[0m in \u001b[0;36mhist\u001b[0;34m(***failed resolving arguments***)\u001b[0m\n\u001b[1;32m   6205\u001b[0m             \u001b[0;31m# this will automatically overwrite bins,\u001b[0m\u001b[0;34m\u001b[0m\u001b[0;34m\u001b[0m\u001b[0m\n\u001b[1;32m   6206\u001b[0m             \u001b[0;31m# so that each histogram uses the same bins\u001b[0m\u001b[0;34m\u001b[0m\u001b[0;34m\u001b[0m\u001b[0m\n\u001b[0;32m-> 6207\u001b[0;31m             \u001b[0mm\u001b[0m\u001b[0;34m,\u001b[0m \u001b[0mbins\u001b[0m \u001b[0;34m=\u001b[0m \u001b[0mnp\u001b[0m\u001b[0;34m.\u001b[0m\u001b[0mhistogram\u001b[0m\u001b[0;34m(\u001b[0m\u001b[0mx\u001b[0m\u001b[0;34m[\u001b[0m\u001b[0mi\u001b[0m\u001b[0;34m]\u001b[0m\u001b[0;34m,\u001b[0m \u001b[0mbins\u001b[0m\u001b[0;34m,\u001b[0m \u001b[0mweights\u001b[0m\u001b[0;34m=\u001b[0m\u001b[0mw\u001b[0m\u001b[0;34m[\u001b[0m\u001b[0mi\u001b[0m\u001b[0;34m]\u001b[0m\u001b[0;34m,\u001b[0m \u001b[0;34m**\u001b[0m\u001b[0mhist_kwargs\u001b[0m\u001b[0;34m)\u001b[0m\u001b[0;34m\u001b[0m\u001b[0m\n\u001b[0m\u001b[1;32m   6208\u001b[0m             \u001b[0mm\u001b[0m \u001b[0;34m=\u001b[0m \u001b[0mm\u001b[0m\u001b[0;34m.\u001b[0m\u001b[0mastype\u001b[0m\u001b[0;34m(\u001b[0m\u001b[0mfloat\u001b[0m\u001b[0;34m)\u001b[0m  \u001b[0;31m# causes problems later if it's an int\u001b[0m\u001b[0;34m\u001b[0m\u001b[0m\n\u001b[1;32m   6209\u001b[0m             \u001b[0;32mif\u001b[0m \u001b[0mmlast\u001b[0m \u001b[0;32mis\u001b[0m \u001b[0;32mNone\u001b[0m\u001b[0;34m:\u001b[0m\u001b[0;34m\u001b[0m\u001b[0m\n",
      "\u001b[0;32m/Volumes/Media/Documents/Programming/Git/(DD)-gitlab-projects/carrot/venv/lib/python3.6/site-packages/numpy/lib/function_base.py\u001b[0m in \u001b[0;36mhistogram\u001b[0;34m(a, bins, range, normed, weights, density)\u001b[0m\n\u001b[1;32m    665\u001b[0m     \u001b[0;32mif\u001b[0m \u001b[0mmn\u001b[0m \u001b[0;34m>\u001b[0m \u001b[0mmx\u001b[0m\u001b[0;34m:\u001b[0m\u001b[0;34m\u001b[0m\u001b[0m\n\u001b[1;32m    666\u001b[0m         raise ValueError(\n\u001b[0;32m--> 667\u001b[0;31m             'max must be larger than min in range parameter.')\n\u001b[0m\u001b[1;32m    668\u001b[0m     \u001b[0;32mif\u001b[0m \u001b[0;32mnot\u001b[0m \u001b[0mnp\u001b[0m\u001b[0;34m.\u001b[0m\u001b[0mall\u001b[0m\u001b[0;34m(\u001b[0m\u001b[0mnp\u001b[0m\u001b[0;34m.\u001b[0m\u001b[0misfinite\u001b[0m\u001b[0;34m(\u001b[0m\u001b[0;34m[\u001b[0m\u001b[0mmn\u001b[0m\u001b[0;34m,\u001b[0m \u001b[0mmx\u001b[0m\u001b[0;34m]\u001b[0m\u001b[0;34m)\u001b[0m\u001b[0;34m)\u001b[0m\u001b[0;34m:\u001b[0m\u001b[0;34m\u001b[0m\u001b[0m\n\u001b[1;32m    669\u001b[0m         raise ValueError(\n",
      "\u001b[0;31mValueError\u001b[0m: max must be larger than min in range parameter."
     ]
    },
    {
     "data": {
      "image/png": "[encoded data removed]",
      "text/plain": [
       "<matplotlib.figure.Figure at 0x110dbee48>"
      ]
     },
     "metadata": {},
     "output_type": "display_data"
    }
   ],
   "source": [
    "sns.pairplot(pd.concat([dtf_1790_1, dtf_1790_2, dtf_1790_3, dtf_1790_4], ignore_index=True), hue='LIT')"
   ]
  },
  {
   "cell_type": "code",
   "execution_count": 248,
   "metadata": {},
   "outputs": [
    {
     "data": {
      "text/plain": [
       "Text(0.5,1,'dtf_1790_4')"
      ]
     },
     "execution_count": 248,
     "metadata": {},
     "output_type": "execute_result"
    },
    {
     "data": {
      "image/png": "[encoded data removed]",
      "text/plain": [
       "<matplotlib.figure.Figure at 0x10d184d30>"
      ]
     },
     "metadata": {},
     "output_type": "display_data"
    }
   ],
   "source": [
    "fig, axis = plt.subplots(2, 2, figsize=(13, 7))\n",
    "sns.heatmap(dtf_1790_1.corr(), annot=True, ax=axis[0, 0])\n",
    "axis[0, 0].set_title('dtf_1790_1')\n",
    "sns.heatmap(dtf_1790_2.corr(), annot=True, ax=axis[0, 1])\n",
    "axis[0, 1].set_title('dtf_1790_2')\n",
    "sns.heatmap(dtf_1790_3.corr(), annot=True, ax=axis[1, 0])\n",
    "axis[1, 0].set_title('dtf_1790_3')\n",
    "sns.heatmap(dtf_1790_4.corr(), annot=True, ax=axis[1, 1])\n",
    "axis[1, 1].set_title('dtf_1790_4')"
   ]
  },
  {
   "cell_type": "markdown",
   "metadata": {},
   "source": [
    "#### Выводы по кусту скважин\n",
    "- Первое, что бросается в глаза, это то что `LIT` сильно коррелирует с `REZ`.\n",
    "- Наблюдается достаточно большая негативная корреляция между `LIT` и `Dept`, `GR`."
   ]
  },
  {
   "cell_type": "code",
   "execution_count": 72,
   "metadata": {},
   "outputs": [
    {
     "data": {
      "text/plain": [
       "<matplotlib.axes._subplots.AxesSubplot at 0x12329d208>"
      ]
     },
     "execution_count": 72,
     "metadata": {},
     "output_type": "execute_result"
    },
    {
     "data": {
      "image/png": "[encoded data removed]",
      "text/plain": [
       "<matplotlib.figure.Figure at 0x1204c36d8>"
      ]
     },
     "metadata": {},
     "output_type": "display_data"
    }
   ],
   "source": [
    "# \n",
    "sns.heatmap(pd.concat([dtf_210[dtf_210.Dept > 100], dtf_1093[dtf_1093.Dept > 100], \n",
    "                       dtf_628[dtf_628.Dept > 100], dtf_1763[dtf_1763.Dept > 100], \n",
    "                       dtf_1790_1[dtf_1790_1.Dept > 100], dtf_1790_2[dtf_1790_2.Dept > 100], \n",
    "                       dtf_1790_3[dtf_1790_3.Dept > 100], dtf_1790_4[dtf_1790_4.Dept > 100]], \n",
    "                      ignore_index=True).corr(),\n",
    "            annot=True)"
   ]
  },
  {
   "cell_type": "code",
   "execution_count": 73,
   "metadata": {},
   "outputs": [
    {
     "data": {
      "text/plain": [
       "<matplotlib.axes._subplots.AxesSubplot at 0x114cf9320>"
      ]
     },
     "execution_count": 73,
     "metadata": {},
     "output_type": "execute_result"
    },
    {
     "data": {
      "image/png": "[encoded data removed]",
      "text/plain": [
       "<matplotlib.figure.Figure at 0x1232c5da0>"
      ]
     },
     "metadata": {},
     "output_type": "display_data"
    }
   ],
   "source": [
    "# \n",
    "sns.heatmap(pd.concat([dtf_210[dtf_210.Dept > 100], dtf_1093[dtf_1093.Dept > 100], \n",
    "                       dtf_628[dtf_628.Dept > 100], dtf_1763[dtf_1763.Dept > 100]], \n",
    "                      ignore_index=True).corr(),\n",
    "            annot=True)"
   ]
  },
  {
   "cell_type": "code",
   "execution_count": 71,
   "metadata": {},
   "outputs": [
    {
     "data": {
      "text/plain": [
       "<matplotlib.axes._subplots.AxesSubplot at 0x1231b3860>"
      ]
     },
     "execution_count": 71,
     "metadata": {},
     "output_type": "execute_result"
    },
    {
     "data": {
      "image/png": "[encoded data removed]",
      "text/plain": [
       "<matplotlib.figure.Figure at 0x1228c5550>"
      ]
     },
     "metadata": {},
     "output_type": "display_data"
    }
   ],
   "source": [
    "sns.heatmap(pd.concat([dtf_1790_1[dtf_1790_1.Dept > 100], dtf_1790_2[dtf_1790_2.Dept > 100], \n",
    "                       dtf_1790_3[dtf_1790_3.Dept > 100], dtf_1790_4[dtf_1790_4.Dept > 100]], \n",
    "                      ignore_index=True).corr(),\n",
    "            annot=True)"
   ]
  },
  {
   "cell_type": "code",
   "execution_count": null,
   "metadata": {},
   "outputs": [],
   "source": []
  },
  {
   "cell_type": "code",
   "execution_count": 358,
   "metadata": {},
   "outputs": [],
   "source": [
    "# убрал KS, 'DS', 'REZ'\n",
    "X_data = ['GR', 'BK', 'GGK(p)', 'KS']\n",
    "y_data = 'LIT'"
   ]
  },
  {
   "cell_type": "code",
   "execution_count": 25,
   "metadata": {},
   "outputs": [],
   "source": [
    "from sklearn.preprocessing import StandardScaler\n",
    "from sklearn.model_selection import train_test_split\n",
    "from sklearn.ensemble import RandomForestClassifier"
   ]
  },
  {
   "cell_type": "code",
   "execution_count": 359,
   "metadata": {},
   "outputs": [],
   "source": [
    "# excluded: dtf_1790_4[dtf_1790_4.Dept > 100]\n",
    "dtf_concated = pd.concat([dtf_1790_1[dtf_1790_1.Dept > 100], dtf_1790_2[dtf_1790_2.Dept > 100], \n",
    "                          dtf_1790_3[dtf_1790_3.Dept > 100], dtf_210[dtf_210.Dept > 100], \n",
    "                          dtf_1093[dtf_1093.Dept > 100], dtf_628[dtf_628.Dept > 100]],\n",
    "                        ignore_index=True)\n",
    "hiden_data = dtf_1763[dtf_1763.Dept > 100]"
   ]
  },
  {
   "cell_type": "code",
   "execution_count": 210,
   "metadata": {},
   "outputs": [],
   "source": [
    "dtf_concated.fillna(-9999, inplace=True)"
   ]
  },
  {
   "cell_type": "code",
   "execution_count": 360,
   "metadata": {},
   "outputs": [],
   "source": [
    "x_train, x_test, y_train, y_test = train_test_split(dtf_concated.dropna()[X_data], dtf_concated.dropna()[y_data], test_size=0.3)"
   ]
  },
  {
   "cell_type": "code",
   "execution_count": 257,
   "metadata": {},
   "outputs": [],
   "source": [
    "scaler = StandardScaler()\n",
    "x_train_sclaed = scaler.fit_transform(x_train.dropna())\n",
    "x_test_scaled = scaler.transform(x_test.dropna())"
   ]
  },
  {
   "cell_type": "code",
   "execution_count": 96,
   "metadata": {},
   "outputs": [],
   "source": [
    "x_val = scaler.transform(dtf_1763.dropna()[X_data_val])\n",
    "y_val = dtf_1763.dropna().LIT\n",
    "y_val = y_val.apply(int)"
   ]
  },
  {
   "cell_type": "code",
   "execution_count": 115,
   "metadata": {},
   "outputs": [],
   "source": [
    "x_val = scaler.transform(dtf_1093.dropna()[X_data_val])\n",
    "y_val = dtf_1093.dropna().LIT\n",
    "y_val = y_val.apply(int)"
   ]
  },
  {
   "cell_type": "code",
   "execution_count": 58,
   "metadata": {},
   "outputs": [],
   "source": [
    "y_train = y_train.applymap(int)\n",
    "y_test = y_test.applymap(int)"
   ]
  },
  {
   "cell_type": "code",
   "execution_count": 361,
   "metadata": {},
   "outputs": [
    {
     "data": {
      "text/plain": [
       "RandomForestClassifier(bootstrap=True, class_weight='balanced',\n",
       "            criterion='gini', max_depth=None, max_features='auto',\n",
       "            max_leaf_nodes=None, min_impurity_decrease=0.0,\n",
       "            min_impurity_split=None, min_samples_leaf=1,\n",
       "            min_samples_split=2, min_weight_fraction_leaf=0.0,\n",
       "            n_estimators=10, n_jobs=1, oob_score=False, random_state=None,\n",
       "            verbose=0, warm_start=False)"
      ]
     },
     "execution_count": 361,
     "metadata": {},
     "output_type": "execute_result"
    }
   ],
   "source": [
    "clf = RandomForestClassifier(class_weight='balanced')\n",
    "clf.fit(x_train, y_train)"
   ]
  },
  {
   "cell_type": "code",
   "execution_count": 362,
   "metadata": {},
   "outputs": [
    {
     "data": {
      "text/plain": [
       "(0.98951540723692621, 0.80178970917225956)"
      ]
     },
     "execution_count": 362,
     "metadata": {},
     "output_type": "execute_result"
    }
   ],
   "source": [
    "clf.score(x_train, y_train), clf.score(x_test, y_test)"
   ]
  },
  {
   "cell_type": "code",
   "execution_count": 363,
   "metadata": {},
   "outputs": [
    {
     "data": {
      "text/plain": [
       "array([ 0.20487925,  0.27688348,  0.22425385,  0.29398342])"
      ]
     },
     "execution_count": 363,
     "metadata": {},
     "output_type": "execute_result"
    }
   ],
   "source": [
    "clf.feature_importances_"
   ]
  },
  {
   "cell_type": "code",
   "execution_count": 255,
   "metadata": {},
   "outputs": [
    {
     "data": {
      "text/plain": [
       "'Уголь'"
      ]
     },
     "execution_count": 255,
     "metadata": {},
     "output_type": "execute_result"
    }
   ],
   "source": [
    "lithology[7]"
   ]
  },
  {
   "cell_type": "code",
   "execution_count": 364,
   "metadata": {
    "scrolled": true
   },
   "outputs": [
    {
     "data": {
      "text/plain": [
       "<matplotlib.axes._subplots.AxesSubplot at 0x10d730b38>"
      ]
     },
     "execution_count": 364,
     "metadata": {},
     "output_type": "execute_result"
    },
    {
     "data": {
      "image/png": "[encoded data removed]",
      "text/plain": [
       "<matplotlib.figure.Figure at 0x10f363860>"
      ]
     },
     "metadata": {},
     "output_type": "display_data"
    }
   ],
   "source": [
    "dtf_concated[y_data].value_counts().plot(kind='bar')"
   ]
  },
  {
   "cell_type": "code",
   "execution_count": 365,
   "metadata": {},
   "outputs": [],
   "source": [
    "from sklearn.metrics import classification_report"
   ]
  },
  {
   "cell_type": "code",
   "execution_count": 366,
   "metadata": {},
   "outputs": [
    {
     "name": "stdout",
     "output_type": "stream",
     "text": [
      "             precision    recall  f1-score   support\n",
      "\n",
      "        1.0       0.83      0.89      0.86      2942\n",
      "        2.0       0.73      0.55      0.63       525\n",
      "        3.0       0.68      0.68      0.68       461\n",
      "        4.0       0.84      0.59      0.69        61\n",
      "        5.0       0.79      0.77      0.78      2372\n",
      "        6.0       0.48      0.45      0.47        62\n",
      "        7.0       0.90      0.88      0.89       228\n",
      "        8.0       1.00      0.98      0.99        54\n",
      "\n",
      "avg / total       0.80      0.80      0.80      6705\n",
      "\n"
     ]
    }
   ],
   "source": [
    "print(classification_report(y_test, clf.predict(x_test)))"
   ]
  },
  {
   "cell_type": "code",
   "execution_count": 367,
   "metadata": {},
   "outputs": [
    {
     "name": "stdout",
     "output_type": "stream",
     "text": [
      "GR 0.204879254494\n",
      "BK 0.276883475466\n",
      "GGK(p) 0.224253852293\n",
      "KS 0.293983417746\n"
     ]
    }
   ],
   "source": [
    "for c, imp in zip(X_data, clf.feature_importances_):\n",
    "    print(c, imp)"
   ]
  },
  {
   "cell_type": "code",
   "execution_count": 19,
   "metadata": {},
   "outputs": [
    {
     "name": "stderr",
     "output_type": "stream",
     "text": [
      "/Volumes/Media/Documents/Programming/Git/(DD)-gitlab-projects/carrot/venv/lib/python3.6/site-packages/pandas/core/frame.py:2754: SettingWithCopyWarning: \n",
      "A value is trying to be set on a copy of a slice from a DataFrame\n",
      "\n",
      "See the caveats in the documentation: http://pandas.pydata.org/pandas-docs/stable/indexing.html#indexing-view-versus-copy\n",
      "  downcast=downcast, **kwargs)\n"
     ]
    }
   ],
   "source": [
    "hiden_data.fillna(-9999, inplace=True)"
   ]
  },
  {
   "cell_type": "code",
   "execution_count": 369,
   "metadata": {},
   "outputs": [
    {
     "data": {
      "text/plain": [
       "0.49816727757414198"
      ]
     },
     "execution_count": 369,
     "metadata": {},
     "output_type": "execute_result"
    }
   ],
   "source": [
    "clf.score(hiden_data.dropna()[X_data], hiden_data.dropna()[y_data])"
   ]
  },
  {
   "cell_type": "code",
   "execution_count": 370,
   "metadata": {},
   "outputs": [
    {
     "name": "stdout",
     "output_type": "stream",
     "text": [
      "Данные из разных колодцев\n",
      "             precision    recall  f1-score   support\n",
      "\n",
      "        1.0       0.75      0.50      0.60      1080\n",
      "        2.0       0.26      0.10      0.15       184\n",
      "        3.0       0.43      0.12      0.18       422\n",
      "        5.0       0.38      0.78      0.51       919\n",
      "        6.0       0.25      0.02      0.04        46\n",
      "        7.0       0.89      0.83      0.86       206\n",
      "        8.0       0.00      0.00      0.00         0\n",
      "        9.0       0.00      0.00      0.00       144\n",
      "\n",
      "avg / total       0.53      0.50      0.47      3001\n",
      "\n",
      "Данные из одноих колодцев\n",
      "             precision    recall  f1-score   support\n",
      "\n",
      "        1.0       0.83      0.89      0.86      2942\n",
      "        2.0       0.73      0.55      0.63       525\n",
      "        3.0       0.68      0.68      0.68       461\n",
      "        4.0       0.84      0.59      0.69        61\n",
      "        5.0       0.79      0.77      0.78      2372\n",
      "        6.0       0.48      0.45      0.47        62\n",
      "        7.0       0.90      0.88      0.89       228\n",
      "        8.0       1.00      0.98      0.99        54\n",
      "\n",
      "avg / total       0.80      0.80      0.80      6705\n",
      "\n",
      "None\n"
     ]
    },
    {
     "name": "stderr",
     "output_type": "stream",
     "text": [
      "/Volumes/Media/Documents/Programming/Git/(DD)-gitlab-projects/carrot/venv/lib/python3.6/site-packages/sklearn/metrics/classification.py:1135: UndefinedMetricWarning: Precision and F-score are ill-defined and being set to 0.0 in labels with no predicted samples.\n",
      "  'precision', 'predicted', average, warn_for)\n",
      "/Volumes/Media/Documents/Programming/Git/(DD)-gitlab-projects/carrot/venv/lib/python3.6/site-packages/sklearn/metrics/classification.py:1137: UndefinedMetricWarning: Recall and F-score are ill-defined and being set to 0.0 in labels with no true samples.\n",
      "  'recall', 'true', average, warn_for)\n"
     ]
    }
   ],
   "source": [
    "# Обучение на данных из одного куста, а валидация на dtf_1790_4-ой скважине\n",
    "print('Данные из разных колодцев')\n",
    "print(classification_report(hiden_data.dropna()[y_data], clf.predict(hiden_data.dropna()[X_data])))\n",
    "print('Данные из одноих колодцев')\n",
    "print(print(classification_report(y_test, clf.predict(x_test))))"
   ]
  },
  {
   "cell_type": "code",
   "execution_count": 100,
   "metadata": {},
   "outputs": [
    {
     "name": "stdout",
     "output_type": "stream",
     "text": [
      "Данные из разных колодцев\n",
      "             precision    recall  f1-score   support\n",
      "\n",
      "    -9999.0       0.00      0.00      0.00       183\n",
      "        2.0       0.00      0.00      0.00       320\n",
      "        3.0       0.00      0.00      0.00      1697\n",
      "        6.0       0.11      0.05      0.07       842\n",
      "        9.0       0.20      0.82      0.33      2232\n",
      "       15.0       0.00      0.00      0.00      1209\n",
      "       18.0       0.03      0.03      0.03       197\n",
      "       24.0       0.00      0.00      0.00       218\n",
      "       27.0       0.00      0.00      0.00       876\n",
      "       28.0       0.18      0.03      0.05      3574\n",
      "       30.0       0.06      0.01      0.02        97\n",
      "       32.0       0.00      0.00      0.00        20\n",
      "       34.0       0.31      0.87      0.45       354\n",
      "       48.0       0.00      0.00      0.00       769\n",
      "       49.0       0.00      0.00      0.00         0\n",
      "\n",
      "avg / total       0.11      0.18      0.09     12588\n",
      "\n",
      "Данные из одноих колодцев\n",
      "             precision    recall  f1-score   support\n",
      "\n",
      "    -9999.0       0.70      0.92      0.79       103\n",
      "        3.0       0.82      0.31      0.45        29\n",
      "        6.0       0.91      0.85      0.88      1162\n",
      "        9.0       0.85      0.91      0.88      4108\n",
      "       15.0       0.83      0.74      0.78       367\n",
      "       18.0       0.81      0.83      0.82      1366\n",
      "       27.0       0.85      0.81      0.83       350\n",
      "       28.0       0.83      0.77      0.80      2379\n",
      "       30.0       0.74      0.59      0.65       138\n",
      "       32.0       0.80      0.67      0.73        48\n",
      "       34.0       0.91      0.93      0.92       427\n",
      "       48.0       0.99      1.00      0.99       270\n",
      "       49.0       1.00      0.99      0.99       332\n",
      "\n",
      "avg / total       0.85      0.85      0.85     11079\n",
      "\n",
      "None\n"
     ]
    },
    {
     "name": "stderr",
     "output_type": "stream",
     "text": [
      "/Volumes/Media/Documents/Programming/Git/(DD)-gitlab-projects/carrot/venv/lib/python3.6/site-packages/sklearn/metrics/classification.py:1135: UndefinedMetricWarning: Precision and F-score are ill-defined and being set to 0.0 in labels with no predicted samples.\n",
      "  'precision', 'predicted', average, warn_for)\n",
      "/Volumes/Media/Documents/Programming/Git/(DD)-gitlab-projects/carrot/venv/lib/python3.6/site-packages/sklearn/metrics/classification.py:1137: UndefinedMetricWarning: Recall and F-score are ill-defined and being set to 0.0 in labels with no true samples.\n",
      "  'recall', 'true', average, warn_for)\n"
     ]
    }
   ],
   "source": [
    "# Обучение на всех данных, а валидация на 210-ой скважине\n",
    "print('Данные из разных колодцев')\n",
    "print(classification_report(hiden_data[y_data], clf.predict(hiden_data[X_data])))\n",
    "print('Данные из одноих колодцев')\n",
    "print(print(classification_report(y_test, clf.predict(x_test))))"
   ]
  },
  {
   "cell_type": "code",
   "execution_count": 126,
   "metadata": {},
   "outputs": [
    {
     "data": {
      "text/plain": [
       "32.0    11004\n",
       "dtype: int64"
      ]
     },
     "execution_count": 126,
     "metadata": {},
     "output_type": "execute_result"
    }
   ],
   "source": [
    "pd.Series.value_counts(clf.predict(x_val))"
   ]
  },
  {
   "cell_type": "code",
   "execution_count": 73,
   "metadata": {},
   "outputs": [],
   "source": [
    "from sklearn.linear_model import SGDClassifier"
   ]
  },
  {
   "cell_type": "code",
   "execution_count": 127,
   "metadata": {},
   "outputs": [
    {
     "name": "stderr",
     "output_type": "stream",
     "text": [
      "/Volumes/Media/Documents/Programming/Git/(DD)-gitlab-projects/carrot/venv/lib/python3.6/site-packages/sklearn/linear_model/stochastic_gradient.py:84: FutureWarning: max_iter and tol parameters have been added in <class 'sklearn.linear_model.stochastic_gradient.SGDClassifier'> in 0.19. If both are left unset, they default to max_iter=5 and tol=None. If tol is not None, max_iter defaults to max_iter=1000. From 0.21, default max_iter will be 1000, and default tol will be 1e-3.\n",
      "  \"and default tol will be 1e-3.\" % type(self), FutureWarning)\n",
      "/Volumes/Media/Documents/Programming/Git/(DD)-gitlab-projects/carrot/venv/lib/python3.6/site-packages/sklearn/utils/validation.py:547: DataConversionWarning: A column-vector y was passed when a 1d array was expected. Please change the shape of y to (n_samples, ), for example using ravel().\n",
      "  y = column_or_1d(y, warn=True)\n"
     ]
    },
    {
     "data": {
      "text/plain": [
       "SGDClassifier(alpha=0.0001, average=False, class_weight=None, epsilon=0.1,\n",
       "       eta0=0.0, fit_intercept=True, l1_ratio=0.15,\n",
       "       learning_rate='optimal', loss='hinge', max_iter=5, n_iter=None,\n",
       "       n_jobs=1, penalty='l2', power_t=0.5, random_state=None,\n",
       "       shuffle=True, tol=None, verbose=0, warm_start=False)"
      ]
     },
     "execution_count": 127,
     "metadata": {},
     "output_type": "execute_result"
    }
   ],
   "source": [
    "clf = SGDClassifier()\n",
    "clf.fit(x_train_sclaed, y_train)"
   ]
  },
  {
   "cell_type": "code",
   "execution_count": 75,
   "metadata": {},
   "outputs": [
    {
     "data": {
      "text/plain": [
       "0.51467596628886947"
      ]
     },
     "execution_count": 75,
     "metadata": {},
     "output_type": "execute_result"
    }
   ],
   "source": [
    "clf.score(x_test_scaled, y_test)"
   ]
  },
  {
   "cell_type": "code",
   "execution_count": 77,
   "metadata": {},
   "outputs": [
    {
     "name": "stdout",
     "output_type": "stream",
     "text": [
      "             precision    recall  f1-score   support\n",
      "\n",
      "          2       0.00      0.00      0.00        96\n",
      "          3       0.66      0.74      0.70       497\n",
      "          6       0.32      0.38      0.34       249\n",
      "          9       0.41      0.23      0.29       597\n",
      "         15       0.37      0.41      0.39       376\n",
      "         18       0.00      0.00      0.00        34\n",
      "         24       0.49      0.84      0.62        62\n",
      "         27       0.00      0.00      0.00       274\n",
      "         28       0.53      0.83      0.65      1033\n",
      "         30       0.00      0.00      0.00        28\n",
      "         32       0.00      0.00      0.00         4\n",
      "         34       0.66      0.35      0.46       114\n",
      "         48       1.00      0.94      0.97        77\n",
      "\n",
      "avg / total       0.44      0.51      0.46      3441\n",
      "\n"
     ]
    },
    {
     "name": "stderr",
     "output_type": "stream",
     "text": [
      "/Volumes/Media/Documents/Programming/Git/(DD)-gitlab-projects/carrot/venv/lib/python3.6/site-packages/sklearn/metrics/classification.py:1135: UndefinedMetricWarning: Precision and F-score are ill-defined and being set to 0.0 in labels with no predicted samples.\n",
      "  'precision', 'predicted', average, warn_for)\n"
     ]
    }
   ],
   "source": [
    "print(classification_report(y_test, clf.predict(x_test_scaled)))"
   ]
  },
  {
   "cell_type": "code",
   "execution_count": 50,
   "metadata": {},
   "outputs": [
    {
     "data": {
      "text/plain": [
       "(48758, 8)"
      ]
     },
     "execution_count": 50,
     "metadata": {},
     "output_type": "execute_result"
    }
   ],
   "source": [
    "dtf_concated.shape"
   ]
  },
  {
   "cell_type": "code",
   "execution_count": 55,
   "metadata": {},
   "outputs": [],
   "source": [
    "dtf_concated.LIT = dtf_concated.LIT.astype('category', copy=False)"
   ]
  },
  {
   "cell_type": "code",
   "execution_count": 62,
   "metadata": {},
   "outputs": [],
   "source": [
    "dtf_concated.replace(-999.25, np.nan, inplace=True)"
   ]
  },
  {
   "cell_type": "code",
   "execution_count": 269,
   "metadata": {},
   "outputs": [],
   "source": [
    "lit_dict_descr = dict()\n",
    "lit_dict = dict()"
   ]
  },
  {
   "cell_type": "code",
   "execution_count": 270,
   "metadata": {},
   "outputs": [],
   "source": [
    "for lit in dtf_concated.dropna().LIT.unique():\n",
    "    if not pd.isnull(lit):\n",
    "        descr = dtf_concated.dropna()[dtf_concated.dropna().LIT == lit].describe()\n",
    "        intervals = dict()\n",
    "        for v in descr.columns:\n",
    "            intervals[v] = (descr[v]['min'], descr[v]['max'])\n",
    "        lit_dict_descr[lithology[lit]] = intervals\n",
    "        lit_dict[lit] = intervals"
   ]
  },
  {
   "cell_type": "code",
   "execution_count": 271,
   "metadata": {},
   "outputs": [
    {
     "data": {
      "text/html": [
       "<div>\n",
       "<style>\n",
       "    .dataframe thead tr:only-child th {\n",
       "        text-align: right;\n",
       "    }\n",
       "\n",
       "    .dataframe thead th {\n",
       "        text-align: left;\n",
       "    }\n",
       "\n",
       "    .dataframe tbody tr th {\n",
       "        vertical-align: top;\n",
       "    }\n",
       "</style>\n",
       "<table border=\"1\" class=\"dataframe\">\n",
       "  <thead>\n",
       "    <tr style=\"text-align: right;\">\n",
       "      <th></th>\n",
       "      <th>Аргиллит</th>\n",
       "      <th>Аргиллит алевритовый</th>\n",
       "      <th>Аргиллит углистый</th>\n",
       "      <th>Гравелит</th>\n",
       "      <th>Суглинок</th>\n",
       "      <th>Супесь</th>\n",
       "      <th>Уголь</th>\n",
       "      <th>алевролит</th>\n",
       "      <th>песчаник</th>\n",
       "    </tr>\n",
       "  </thead>\n",
       "  <tbody>\n",
       "    <tr>\n",
       "      <th>BK</th>\n",
       "      <td>(6.708, 413.064)</td>\n",
       "      <td>(6.784, 1399.313)</td>\n",
       "      <td>(8.256, 2356.688)</td>\n",
       "      <td>(49.222, 203.979)</td>\n",
       "      <td>(0.289, 0.848)</td>\n",
       "      <td>(0.339, 9.109)</td>\n",
       "      <td>(8.855, 7278.168)</td>\n",
       "      <td>(0.891, 569.491)</td>\n",
       "      <td>(6.035, 2325.65)</td>\n",
       "    </tr>\n",
       "    <tr>\n",
       "      <th>DS</th>\n",
       "      <td>(95.993, 421.818)</td>\n",
       "      <td>(95.899, 108.281)</td>\n",
       "      <td>(96.367, 155.139)</td>\n",
       "      <td>(96.454, 96.988)</td>\n",
       "      <td>(100.61, 100.905)</td>\n",
       "      <td>(102.353, 106.052)</td>\n",
       "      <td>(95.899, 322.81)</td>\n",
       "      <td>(95.899, 176.051)</td>\n",
       "      <td>(95.899, 199.815)</td>\n",
       "    </tr>\n",
       "    <tr>\n",
       "      <th>Dept</th>\n",
       "      <td>(109.72, 335.66)</td>\n",
       "      <td>(124.99, 346.96)</td>\n",
       "      <td>(118.74, 335.82)</td>\n",
       "      <td>(175.0, 199.46)</td>\n",
       "      <td>(117.67, 120.53)</td>\n",
       "      <td>(112.46, 115.38)</td>\n",
       "      <td>(123.09, 339.78)</td>\n",
       "      <td>(114.52, 328.58)</td>\n",
       "      <td>(108.52, 347.58)</td>\n",
       "    </tr>\n",
       "    <tr>\n",
       "      <th>GGK(p)</th>\n",
       "      <td>(62950.0, 482251.438)</td>\n",
       "      <td>(80635.0, 549800.0)</td>\n",
       "      <td>(96795.0, 364403.344)</td>\n",
       "      <td>(96784.0, 133045.0)</td>\n",
       "      <td>(47396.0, 92530.0)</td>\n",
       "      <td>(50165.0, 153370.0)</td>\n",
       "      <td>(96210.0, 741364.0)</td>\n",
       "      <td>(51330.0, 406636.0)</td>\n",
       "      <td>(60405.0, 469675.0)</td>\n",
       "    </tr>\n",
       "    <tr>\n",
       "      <th>GR</th>\n",
       "      <td>(4.692, 19.725)</td>\n",
       "      <td>(4.292, 19.747)</td>\n",
       "      <td>(2.793, 16.247)</td>\n",
       "      <td>(2.988, 6.796)</td>\n",
       "      <td>(3.138, 6.287)</td>\n",
       "      <td>(5.091, 10.73)</td>\n",
       "      <td>(0.766, 15.681)</td>\n",
       "      <td>(5.068, 18.444)</td>\n",
       "      <td>(1.628, 14.578)</td>\n",
       "    </tr>\n",
       "    <tr>\n",
       "      <th>KS</th>\n",
       "      <td>(1.917, 535.756)</td>\n",
       "      <td>(2.138, 939.661)</td>\n",
       "      <td>(1.908, 5456.719)</td>\n",
       "      <td>(273.534, 1645.374)</td>\n",
       "      <td>(0.289, 0.848)</td>\n",
       "      <td>(0.011, 0.073)</td>\n",
       "      <td>(1.636, 4256.571)</td>\n",
       "      <td>(0.891, 760.751)</td>\n",
       "      <td>(0.029, 6695.274)</td>\n",
       "    </tr>\n",
       "    <tr>\n",
       "      <th>LIT</th>\n",
       "      <td>(3.0, 3.0)</td>\n",
       "      <td>(2.0, 2.0)</td>\n",
       "      <td>(6.0, 6.0)</td>\n",
       "      <td>(4.0, 4.0)</td>\n",
       "      <td>(9.0, 9.0)</td>\n",
       "      <td>(8.0, 8.0)</td>\n",
       "      <td>(7.0, 7.0)</td>\n",
       "      <td>(5.0, 5.0)</td>\n",
       "      <td>(1.0, 1.0)</td>\n",
       "    </tr>\n",
       "    <tr>\n",
       "      <th>REZ</th>\n",
       "      <td>(0.687, 3.539)</td>\n",
       "      <td>(0.686, 3.429)</td>\n",
       "      <td>(0.684, 3.551)</td>\n",
       "      <td>(3.176, 3.305)</td>\n",
       "      <td>(0.781, 0.826)</td>\n",
       "      <td>(3.034, 3.173)</td>\n",
       "      <td>(0.684, 3.595)</td>\n",
       "      <td>(0.681, 3.628)</td>\n",
       "      <td>(0.672, 3.628)</td>\n",
       "    </tr>\n",
       "  </tbody>\n",
       "</table>\n",
       "</div>"
      ],
      "text/plain": [
       "                     Аргиллит Аргиллит алевритовый      Аргиллит углистый  \\\n",
       "BK           (6.708, 413.064)    (6.784, 1399.313)      (8.256, 2356.688)   \n",
       "DS          (95.993, 421.818)    (95.899, 108.281)      (96.367, 155.139)   \n",
       "Dept         (109.72, 335.66)     (124.99, 346.96)       (118.74, 335.82)   \n",
       "GGK(p)  (62950.0, 482251.438)  (80635.0, 549800.0)  (96795.0, 364403.344)   \n",
       "GR            (4.692, 19.725)      (4.292, 19.747)        (2.793, 16.247)   \n",
       "KS           (1.917, 535.756)     (2.138, 939.661)      (1.908, 5456.719)   \n",
       "LIT                (3.0, 3.0)           (2.0, 2.0)             (6.0, 6.0)   \n",
       "REZ            (0.687, 3.539)       (0.686, 3.429)         (0.684, 3.551)   \n",
       "\n",
       "                  Гравелит             Суглинок              Супесь   \\\n",
       "BK        (49.222, 203.979)      (0.289, 0.848)       (0.339, 9.109)   \n",
       "DS         (96.454, 96.988)   (100.61, 100.905)   (102.353, 106.052)   \n",
       "Dept        (175.0, 199.46)    (117.67, 120.53)     (112.46, 115.38)   \n",
       "GGK(p)  (96784.0, 133045.0)  (47396.0, 92530.0)  (50165.0, 153370.0)   \n",
       "GR           (2.988, 6.796)      (3.138, 6.287)       (5.091, 10.73)   \n",
       "KS      (273.534, 1645.374)      (0.289, 0.848)       (0.011, 0.073)   \n",
       "LIT              (4.0, 4.0)          (9.0, 9.0)           (8.0, 8.0)   \n",
       "REZ          (3.176, 3.305)      (0.781, 0.826)       (3.034, 3.173)   \n",
       "\n",
       "                      Уголь            алевролит             песчаник  \n",
       "BK        (8.855, 7278.168)     (0.891, 569.491)     (6.035, 2325.65)  \n",
       "DS         (95.899, 322.81)    (95.899, 176.051)    (95.899, 199.815)  \n",
       "Dept       (123.09, 339.78)     (114.52, 328.58)     (108.52, 347.58)  \n",
       "GGK(p)  (96210.0, 741364.0)  (51330.0, 406636.0)  (60405.0, 469675.0)  \n",
       "GR          (0.766, 15.681)      (5.068, 18.444)      (1.628, 14.578)  \n",
       "KS        (1.636, 4256.571)     (0.891, 760.751)    (0.029, 6695.274)  \n",
       "LIT              (7.0, 7.0)           (5.0, 5.0)           (1.0, 1.0)  \n",
       "REZ          (0.684, 3.595)       (0.681, 3.628)       (0.672, 3.628)  "
      ]
     },
     "execution_count": 271,
     "metadata": {},
     "output_type": "execute_result"
    }
   ],
   "source": [
    "pd.DataFrame(lit_dict_descr)"
   ]
  },
  {
   "cell_type": "code",
   "execution_count": 272,
   "metadata": {},
   "outputs": [],
   "source": [
    "lit_dtf = pd.DataFrame(lit_dict)"
   ]
  },
  {
   "cell_type": "code",
   "execution_count": 103,
   "metadata": {},
   "outputs": [
    {
     "data": {
      "text/plain": [
       "2.0     (5.747, 11.674)\n",
       "3.0      (3.54, 11.812)\n",
       "6.0     (1.697, 13.472)\n",
       "9.0     (1.628, 24.476)\n",
       "15.0    (4.292, 19.747)\n",
       "18.0    (4.692, 19.725)\n",
       "24.0     (2.988, 6.796)\n",
       "27.0    (5.688, 18.444)\n",
       "28.0    (2.939, 19.104)\n",
       "30.0    (2.793, 17.285)\n",
       "32.0    (0.877, 15.002)\n",
       "34.0    (0.766, 15.681)\n",
       "48.0     (0.943, 10.73)\n",
       "49.0     (1.742, 6.287)\n",
       "Name: GR, dtype: object"
      ]
     },
     "execution_count": 103,
     "metadata": {},
     "output_type": "execute_result"
    }
   ],
   "source": [
    "lit_dtf.loc['GR']"
   ]
  },
  {
   "cell_type": "markdown",
   "metadata": {},
   "source": [
    "## Baseline algorithm\n",
    "Идея: Найти минимумальные и максимальные значения для значений методов\\*. Затем, на отложенной скважине посчитать попадание значений методов в полученные минимумы и максимумы.\n",
    "\n",
    "\\*Метод -- это метод оценки литологии (Гамма каротаж, ПС, etc.)"
   ]
  },
  {
   "cell_type": "code",
   "execution_count": 273,
   "metadata": {},
   "outputs": [],
   "source": [
    "def in_interval(value, vals):\n",
    "    \"\"\"\n",
    "    check if value between values\n",
    "    \"\"\"\n",
    "    return int(vals[0] <= value <= vals[1])"
   ]
  },
  {
   "cell_type": "code",
   "execution_count": 306,
   "metadata": {},
   "outputs": [
    {
     "data": {
      "text/plain": [
       "Index(['Dept', 'GGK(p)', 'DS', 'GR', 'LIT', 'BK', 'REZ'], dtype='object')"
      ]
     },
     "execution_count": 306,
     "metadata": {},
     "output_type": "execute_result"
    }
   ],
   "source": [
    "hiden_data.columns"
   ]
  },
  {
   "cell_type": "code",
   "execution_count": 371,
   "metadata": {},
   "outputs": [],
   "source": [
    "X_validation_cols = ['GGK(p)', 'GR', 'BK', 'REZ', 'KS']"
   ]
  },
  {
   "cell_type": "code",
   "execution_count": 372,
   "metadata": {},
   "outputs": [],
   "source": [
    "# Список для сохранения вероятностей\n",
    "probs = []\n",
    "# Порог для \"вероятности\"\n",
    "threshold = 0\n",
    "for row in hiden_data[X_validation_cols].dropna().iterrows():\n",
    "    dtf_ = pd.DataFrame(columns=[k for k in lit_dict.keys()], \n",
    "                        index=hiden_data[X_validation_cols].columns)\n",
    "    for it, val in row[1].items():\n",
    "        if it in lit_dtf.index:\n",
    "#             Проверка, входит ли значение метода в интервал\n",
    "            mask = lit_dtf.loc[it].apply(lambda x : in_interval(val, x))\n",
    "            dtf_.loc[it] = mask\n",
    "    dtf_.dropna(inplace=True)\n",
    "#     Считаем, для каждой литологии, сколько методов попали в интервал\n",
    "    prob = dtf_.mean(axis=0)\n",
    "#     Отсекаем литологии ниже заданого порога\n",
    "    prob_actual = prob[prob >= threshold]\n",
    "    probs.append(prob_actual)"
   ]
  },
  {
   "cell_type": "code",
   "execution_count": 326,
   "metadata": {},
   "outputs": [
    {
     "data": {
      "text/plain": [
       "8.0    0.50\n",
       "1.0    1.00\n",
       "6.0    1.00\n",
       "7.0    1.00\n",
       "2.0    1.00\n",
       "5.0    1.00\n",
       "3.0    0.75\n",
       "4.0    0.50\n",
       "9.0    0.25\n",
       "dtype: float64"
      ]
     },
     "execution_count": 326,
     "metadata": {},
     "output_type": "execute_result"
    }
   ],
   "source": [
    "probs[100]"
   ]
  },
  {
   "cell_type": "code",
   "execution_count": 373,
   "metadata": {},
   "outputs": [
    {
     "name": "stdout",
     "output_type": "stream",
     "text": [
      "0.421526157947\n"
     ]
    }
   ],
   "source": [
    "# Считаем, accuracy\n",
    "count = 0\n",
    "total = 0\n",
    "Y_true = []\n",
    "Y_pred = []\n",
    "for y_true, y_pred in zip(hiden_data.dropna().LIT, probs):\n",
    "    total += 1\n",
    "    if len(y_pred) > 0:\n",
    "        count += (y_true == y_pred.argmax())\n",
    "    Y_true.append(y_true)\n",
    "    Y_pred.append(y_pred.argmax())\n",
    "print(count/total)"
   ]
  },
  {
   "cell_type": "code",
   "execution_count": 337,
   "metadata": {},
   "outputs": [
    {
     "data": {
      "text/plain": [
       "(array([ 1.,  3.,  6.,  7.]), array([ 1.,  6.,  2.,  7.]))"
      ]
     },
     "execution_count": 337,
     "metadata": {},
     "output_type": "execute_result"
    }
   ],
   "source": [
    "pd.unique(Y_true), pd.unique(Y_pred)"
   ]
  },
  {
   "cell_type": "code",
   "execution_count": 338,
   "metadata": {},
   "outputs": [
    {
     "data": {
      "text/plain": [
       "('Аргиллит', 'Аргиллит алевритовый')"
      ]
     },
     "execution_count": 338,
     "metadata": {},
     "output_type": "execute_result"
    }
   ],
   "source": [
    "lithology[3], lithology[2]"
   ]
  },
  {
   "cell_type": "code",
   "execution_count": 374,
   "metadata": {},
   "outputs": [
    {
     "name": "stdout",
     "output_type": "stream",
     "text": [
      "             precision    recall  f1-score   support\n",
      "\n",
      "        1.0       0.40      0.98      0.57      1080\n",
      "        2.0       0.28      0.12      0.17       184\n",
      "        3.0       0.00      0.00      0.00       422\n",
      "        5.0       0.69      0.01      0.02       919\n",
      "        6.0       0.01      0.02      0.02        46\n",
      "        7.0       0.90      0.18      0.31       206\n",
      "        9.0       0.89      0.93      0.91       144\n",
      "\n",
      "avg / total       0.48      0.42      0.29      3001\n",
      "\n"
     ]
    },
    {
     "name": "stderr",
     "output_type": "stream",
     "text": [
      "/Volumes/Media/Documents/Programming/Git/(DD)-gitlab-projects/carrot/venv/lib/python3.6/site-packages/sklearn/metrics/classification.py:1135: UndefinedMetricWarning: Precision and F-score are ill-defined and being set to 0.0 in labels with no predicted samples.\n",
      "  'precision', 'predicted', average, warn_for)\n"
     ]
    }
   ],
   "source": [
    "print(classification_report(Y_true, Y_pred))"
   ]
  },
  {
   "cell_type": "code",
   "execution_count": 339,
   "metadata": {},
   "outputs": [],
   "source": [
    "from sklearn.metrics import confusion_matrix"
   ]
  },
  {
   "cell_type": "code",
   "execution_count": 343,
   "metadata": {},
   "outputs": [
    {
     "data": {
      "text/plain": [
       "array([[391,  18,   0,  45,   0],\n",
       "       [  0,   0,   0,   0,   0],\n",
       "       [ 22,  32,   0,  11,   0],\n",
       "       [  1,   2,   0,   7,   0],\n",
       "       [ 85,   0,   0,   1,  35]])"
      ]
     },
     "execution_count": 343,
     "metadata": {},
     "output_type": "execute_result"
    }
   ],
   "source": [
    "confusion_matrix(Y_true, Y_pred)"
   ]
  }
 ],
 "metadata": {
  "kernelspec": {
   "display_name": "carrot-project",
   "language": "python",
   "name": "carrot-project"
  },
  "language_info": {
   "codemirror_mode": {
    "name": "ipython",
    "version": 3
   },
   "file_extension": ".py",
   "mimetype": "text/x-python",
   "name": "python",
   "nbconvert_exporter": "python",
   "pygments_lexer": "ipython3",
   "version": "3.6.2"
  }
 },
 "nbformat": 4,
 "nbformat_minor": 2
}
